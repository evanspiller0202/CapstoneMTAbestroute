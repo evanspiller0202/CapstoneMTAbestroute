{
 "cells": [
  {
   "cell_type": "code",
   "execution_count": 2,
   "id": "c942fba0",
   "metadata": {},
   "outputs": [],
   "source": [
    "import geopandas as gpd\n"
   ]
  },
  {
   "cell_type": "code",
   "execution_count": 19,
   "id": "2f711dfa",
   "metadata": {},
   "outputs": [],
   "source": [
    "gdf = gpd.read_file(r\"C:\\Users\\EvanSpiller\\Documents\\DS BootCamp\\Capstone\\data\\taxi_zones (2)\\taxi_zones.shp\")\n"
   ]
  },
  {
   "cell_type": "code",
   "execution_count": 20,
   "id": "b45a21d1",
   "metadata": {},
   "outputs": [
    {
     "name": "stdout",
     "output_type": "stream",
     "text": [
      "     LocationID      Adjacent_LocationIDs\n",
      "0             1                        []\n",
      "1             2                     [132]\n",
      "2             3       [51, 184, 242, 254]\n",
      "3             4            [79, 148, 224]\n",
      "4             5                        []\n",
      "..          ...                       ...\n",
      "255         259                     [254]\n",
      "256         260                     [157]\n",
      "257         261            [88, 209, 231]\n",
      "258         262       [75, 140, 141, 263]\n",
      "259         263  [75, 140, 141, 236, 262]\n",
      "\n",
      "[260 rows x 2 columns]\n"
     ]
    }
   ],
   "source": [
    "# Step 1: Read the shapefile into a GeoDataFrame\n",
    "# Replace 'your_shapefile.shp' with the actual path to your shapefile\n",
    "\n",
    "# Step 2: Create a dictionary to store adjacency relationships\n",
    "adjacency_dict = {}\n",
    "\n",
    "# Step 3: Iterate through each geometry and find adjacent areas\n",
    "for idx, row in gdf.iterrows():\n",
    "    adjacent_areas = gdf[gdf.touches(row['geometry'])]['LocationID'].tolist()\n",
    "    adjacency_dict[row['LocationID']] = adjacent_areas\n",
    "\n",
    "# Step 4: Create a table (pandas DataFrame) from the adjacency dictionary\n",
    "adjacency_table = pd.DataFrame(adjacency_dict.items(), columns=['LocationID', 'Adjacent_LocationIDs'])\n",
    "\n",
    "# Step 5: Print or manipulate the adjacency table as needed\n",
    "print(adjacency_table)\n"
   ]
  },
  {
   "cell_type": "code",
   "execution_count": 23,
   "id": "736e2f7f",
   "metadata": {},
   "outputs": [
    {
     "data": {
      "text/html": [
       "<div>\n",
       "<style scoped>\n",
       "    .dataframe tbody tr th:only-of-type {\n",
       "        vertical-align: middle;\n",
       "    }\n",
       "\n",
       "    .dataframe tbody tr th {\n",
       "        vertical-align: top;\n",
       "    }\n",
       "\n",
       "    .dataframe thead th {\n",
       "        text-align: right;\n",
       "    }\n",
       "</style>\n",
       "<table border=\"1\" class=\"dataframe\">\n",
       "  <thead>\n",
       "    <tr style=\"text-align: right;\">\n",
       "      <th></th>\n",
       "      <th>LocationID</th>\n",
       "      <th>Adjacent_LocationIDs</th>\n",
       "    </tr>\n",
       "  </thead>\n",
       "  <tbody>\n",
       "    <tr>\n",
       "      <th>0</th>\n",
       "      <td>1</td>\n",
       "      <td>[]</td>\n",
       "    </tr>\n",
       "    <tr>\n",
       "      <th>1</th>\n",
       "      <td>2</td>\n",
       "      <td>[132]</td>\n",
       "    </tr>\n",
       "    <tr>\n",
       "      <th>2</th>\n",
       "      <td>3</td>\n",
       "      <td>[51, 184, 242, 254]</td>\n",
       "    </tr>\n",
       "    <tr>\n",
       "      <th>3</th>\n",
       "      <td>4</td>\n",
       "      <td>[79, 148, 224]</td>\n",
       "    </tr>\n",
       "    <tr>\n",
       "      <th>4</th>\n",
       "      <td>5</td>\n",
       "      <td>[]</td>\n",
       "    </tr>\n",
       "    <tr>\n",
       "      <th>...</th>\n",
       "      <td>...</td>\n",
       "      <td>...</td>\n",
       "    </tr>\n",
       "    <tr>\n",
       "      <th>255</th>\n",
       "      <td>259</td>\n",
       "      <td>[254]</td>\n",
       "    </tr>\n",
       "    <tr>\n",
       "      <th>256</th>\n",
       "      <td>260</td>\n",
       "      <td>[157]</td>\n",
       "    </tr>\n",
       "    <tr>\n",
       "      <th>257</th>\n",
       "      <td>261</td>\n",
       "      <td>[88, 209, 231]</td>\n",
       "    </tr>\n",
       "    <tr>\n",
       "      <th>258</th>\n",
       "      <td>262</td>\n",
       "      <td>[75, 140, 141, 263]</td>\n",
       "    </tr>\n",
       "    <tr>\n",
       "      <th>259</th>\n",
       "      <td>263</td>\n",
       "      <td>[75, 140, 141, 236, 262]</td>\n",
       "    </tr>\n",
       "  </tbody>\n",
       "</table>\n",
       "<p>260 rows × 2 columns</p>\n",
       "</div>"
      ],
      "text/plain": [
       "     LocationID      Adjacent_LocationIDs\n",
       "0             1                        []\n",
       "1             2                     [132]\n",
       "2             3       [51, 184, 242, 254]\n",
       "3             4            [79, 148, 224]\n",
       "4             5                        []\n",
       "..          ...                       ...\n",
       "255         259                     [254]\n",
       "256         260                     [157]\n",
       "257         261            [88, 209, 231]\n",
       "258         262       [75, 140, 141, 263]\n",
       "259         263  [75, 140, 141, 236, 262]\n",
       "\n",
       "[260 rows x 2 columns]"
      ]
     },
     "execution_count": 23,
     "metadata": {},
     "output_type": "execute_result"
    }
   ],
   "source": [
    "adjacency_table\n",
    "# I checked this against tableau. It's closeish, but there are plenty of issues. To do: figure out what this code is actually doing and work from there."
   ]
  }
 ],
 "metadata": {
  "kernelspec": {
   "display_name": "capstone",
   "language": "python",
   "name": "capstone"
  },
  "language_info": {
   "codemirror_mode": {
    "name": "ipython",
    "version": 3
   },
   "file_extension": ".py",
   "mimetype": "text/x-python",
   "name": "python",
   "nbconvert_exporter": "python",
   "pygments_lexer": "ipython3",
   "version": "3.7.12"
  }
 },
 "nbformat": 4,
 "nbformat_minor": 5
}
