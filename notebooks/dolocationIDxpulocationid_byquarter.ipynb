{
 "cells": [
  {
   "cell_type": "code",
   "execution_count": 2,
   "id": "e9790b21",
   "metadata": {},
   "outputs": [],
   "source": [
    "import numpy as np\n",
    "import pandas as pd\n",
    "import matplotlib.pyplot as plt\n",
    "import pyarrow"
   ]
  },
  {
   "cell_type": "markdown",
   "id": "f41fa389",
   "metadata": {},
   "source": [
    "In this notebook, I summarize my main summary files by quarter (they're currently summarized by hour). This is so I can put them into a single file and feed them as inputs into my best route algorithm.\n",
    "\n",
    "Technically, I could have done this through a for loop but the files are very large and there are only a few of them, so it was simply just to run it this way."
   ]
  },
  {
   "cell_type": "code",
   "execution_count": 3,
   "id": "170cf086",
   "metadata": {},
   "outputs": [],
   "source": [
    "rideshares = pd.read_parquet(r'C:\\Users\\EvanSpiller\\Documents\\DS BootCamp\\Capstone\\data\\HVFHV_Compressed\\Combined\\full_compressed_FHV_2017.parquet') #2017 parquet file\n",
    "rideshares = rideshares.loc[(rideshares['Month'] >5) &( rideshares['Year'] == 2017)] #last 6 months(first 6 months is bad data)\n",
    "rideshares['Quarter'] = ((rideshares['Month'] - 1) // 3) + 1 #quarter column\n",
    "quartersummary_2017 = pd.DataFrame(rideshares.groupby(['Year','Quarter','DOlocationID', 'PUlocationID']).sum('trips')['trips']).reset_index() #group by quarter"
   ]
  },
  {
   "cell_type": "code",
   "execution_count": 4,
   "id": "18003b19",
   "metadata": {},
   "outputs": [],
   "source": [
    "#same calcs for 2018\n",
    "rideshares = pd.read_parquet(r'C:\\Users\\EvanSpiller\\Documents\\DS BootCamp\\Capstone\\data\\HVFHV_Compressed\\Combined\\full_compressed_FHV_2018.parquet')\n",
    "rideshares['Quarter'] = ((rideshares['Month'] - 1) // 3) + 1\n",
    "quartersummary_2018 = pd.DataFrame(rideshares.groupby(['Year','Quarter','DOlocationID', 'PUlocationID']).sum('trips')['trips']).reset_index()"
   ]
  },
  {
   "cell_type": "code",
   "execution_count": 5,
   "id": "71383a37",
   "metadata": {},
   "outputs": [],
   "source": [
    "quartersummary_2018 = quartersummary_2018.loc[quartersummary_2018['Year']==2018]"
   ]
  },
  {
   "cell_type": "code",
   "execution_count": 6,
   "id": "61290790",
   "metadata": {},
   "outputs": [],
   "source": [
    "#same calcs for 2019 and 2020 -- some 2021 numbers creeped into the original docs and I just get rid of them\n",
    "rideshares = pd.read_parquet(r'C:\\Users\\EvanSpiller\\Documents\\DS BootCamp\\Capstone\\data\\HVFHV_Compressed\\Combined\\full_compressed_HVFHV_2019_2020.parquet')\n",
    "rideshares['Quarter'] = ((rideshares['Month'] - 1) // 3) + 1\n",
    "rideshares['cost'] = rideshares['driver_pay_sum'] + rideshares['tips_sum']\n",
    "quartersummary_2019_2020 = pd.DataFrame(rideshares.groupby(['Year', 'Quarter', 'DOLocationID', 'PULocationID'])[['trips', 'cost']].sum().reset_index())\n",
    "quartersummary_2019_2020 = quartersummary_2019_2020.loc[quartersummary_2019_2020['Year'] < 2021]"
   ]
  },
  {
   "cell_type": "code",
   "execution_count": 7,
   "id": "00728660",
   "metadata": {},
   "outputs": [],
   "source": [
    "#same calcs for 2021 -- some 2022 numbers creeped into the original docs and I just get rid of them\n",
    "rideshares = pd.read_parquet(r'C:\\Users\\EvanSpiller\\Documents\\DS BootCamp\\Capstone\\data\\HVFHV_Compressed\\Combined\\full_compressed_HVFHV_2021.parquet')\n",
    "rideshares['Quarter'] = ((rideshares['Month'] - 1) // 3) + 1\n",
    "rideshares['cost'] = rideshares['driver_pay_sum'] + rideshares['tips_sum']\n",
    "quartersummary_2021 = pd.DataFrame(rideshares.groupby(['Year', 'Quarter', 'DOLocationID', 'PULocationID'])[['trips', 'cost']].sum().reset_index())\n",
    "quartersummary_2021 = quartersummary_2021.loc[quartersummary_2021['Year'] < 2022]"
   ]
  },
  {
   "cell_type": "code",
   "execution_count": 8,
   "id": "a3a042bc",
   "metadata": {},
   "outputs": [],
   "source": [
    "#same calcs for 2022 and 2023\n",
    "rideshares = pd.read_parquet(r'C:\\Users\\EvanSpiller\\Documents\\DS BootCamp\\Capstone\\data\\HVFHV_Compressed\\Combined\\full_compressed_HVFHV_2022_2023.parquet')\n",
    "rideshares['Quarter'] = ((rideshares['Month'] - 1) // 3) + 1\n",
    "rideshares['cost'] = rideshares['driver_pay_sum'] + rideshares['tips_sum']\n",
    "quartersummary_2022_2023 = pd.DataFrame(rideshares.groupby(['Year', 'Quarter', 'DOLocationID', 'PULocationID'])[['trips', 'cost']].sum().reset_index())"
   ]
  },
  {
   "cell_type": "code",
   "execution_count": 9,
   "id": "76b976ef",
   "metadata": {},
   "outputs": [
    {
     "data": {
      "text/plain": [
       "Index(['Year', 'Quarter', 'DOlocationID', 'PUlocationID', 'trips'], dtype='object')"
      ]
     },
     "execution_count": 9,
     "metadata": {},
     "output_type": "execute_result"
    }
   ],
   "source": [
    "quartersummary_2017.columns"
   ]
  },
  {
   "cell_type": "code",
   "execution_count": 10,
   "id": "4b35429b",
   "metadata": {},
   "outputs": [],
   "source": [
    "#2017 and 2018 have slightly different column names so I'm fixing that\n",
    "quartersummary_2017.rename(columns={'DOlocationID': 'DOLocationID', 'PUlocationID': 'PULocationID'}, inplace=True)"
   ]
  },
  {
   "cell_type": "code",
   "execution_count": 11,
   "id": "96a61c3a",
   "metadata": {},
   "outputs": [],
   "source": [
    "#2017 and 2018 have slightly different column names so I'm fixing that\n",
    "quartersummary_2018.rename(columns={'DOlocationID': 'DOLocationID', 'PUlocationID': 'PULocationID'}, inplace=True)"
   ]
  },
  {
   "cell_type": "code",
   "execution_count": 12,
   "id": "1d3afd5a",
   "metadata": {},
   "outputs": [],
   "source": [
    "#merge into a single df\n",
    "merged_df = pd.concat([quartersummary_2017, quartersummary_2018,quartersummary_2019_2020,quartersummary_2021, quartersummary_2022_2023], ignore_index=True)\n"
   ]
  },
  {
   "cell_type": "code",
   "execution_count": 13,
   "id": "8aa2fd6f",
   "metadata": {},
   "outputs": [],
   "source": [
    "#send to csv\n",
    "merged_df.to_csv(r'C:\\Users\\EvanSpiller\\Documents\\DS BootCamp\\Capstone\\data\\summary_by_quarter_rideshares', index=False)"
   ]
  }
 ],
 "metadata": {
  "kernelspec": {
   "display_name": "Python 3 (ipykernel)",
   "language": "python",
   "name": "python3"
  },
  "language_info": {
   "codemirror_mode": {
    "name": "ipython",
    "version": 3
   },
   "file_extension": ".py",
   "mimetype": "text/x-python",
   "name": "python",
   "nbconvert_exporter": "python",
   "pygments_lexer": "ipython3",
   "version": "3.7.12"
  }
 },
 "nbformat": 4,
 "nbformat_minor": 5
}
