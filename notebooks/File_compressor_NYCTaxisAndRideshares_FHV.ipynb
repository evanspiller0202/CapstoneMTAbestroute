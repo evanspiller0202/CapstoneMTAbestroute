{
 "cells": [
  {
   "cell_type": "code",
   "execution_count": 28,
   "id": "583a1e62",
   "metadata": {},
   "outputs": [],
   "source": [
    "import numpy as np\n",
    "import pandas as pd"
   ]
  },
  {
   "cell_type": "code",
   "execution_count": 29,
   "id": "3fe1dc55",
   "metadata": {},
   "outputs": [],
   "source": [
    "import pyarrow"
   ]
  },
  {
   "cell_type": "code",
   "execution_count": 14,
   "id": "40ea5251",
   "metadata": {},
   "outputs": [],
   "source": [
    "def compression(file):\n",
    "    rideshares = pd.read_parquet(file)\n",
    "    rideshares['Month'] = rideshares['dropOff_datetime'].dt.month\n",
    "    rideshares['Day'] = rideshares['dropOff_datetime'].dt.day\n",
    "    rideshares['Hour'] = rideshares['dropOff_datetime'].dt.hour\n",
    "    rideshares['Year'] = rideshares['dropOff_datetime'].dt.year\n",
    "    rideshares_grouped = rideshares.groupby(['PUlocationID', 'DOlocationID', 'Year', 'Month', 'Day', 'Hour']).agg(\n",
    "        trips=pd.NamedAgg(column='pickup_datetime', aggfunc='count')\n",
    "    )\n",
    "    rideshares_grouped = rideshares_grouped.reset_index()\n",
    "    new_file_path = r'C:\\Users\\EvanSpiller\\Documents\\DS BootCamp\\Capstone\\data\\FHV_Compressed\\compressed_FHV_' + year_month + '.parquet'\n",
    "    rideshares_grouped.to_parquet(new_file_path, engine='pyarrow')\n"
   ]
  },
  {
   "cell_type": "code",
   "execution_count": 31,
   "id": "84461041",
   "metadata": {},
   "outputs": [
    {
     "data": {
      "text/plain": [
       "['2015-01',\n",
       " '2015-02',\n",
       " '2015-03',\n",
       " '2015-04',\n",
       " '2015-05',\n",
       " '2015-06',\n",
       " '2015-07',\n",
       " '2015-08',\n",
       " '2015-09',\n",
       " '2015-10',\n",
       " '2015-11',\n",
       " '2015-12']"
      ]
     },
     "execution_count": 31,
     "metadata": {},
     "output_type": "execute_result"
    }
   ],
   "source": [
    "# Empty list to store the results\n",
    "year_month_list = []\n",
    "\n",
    "# Loop through years from 2019 to 2022\n",
    "for year in range(2015, 2016):\n",
    "    # Loop through months from 1 to 12\n",
    "    for month in range(1, 13):\n",
    "        # Format the year and month as \"YYYY-MM\" and append to the list\n",
    "        year_month_list.append(f\"{year}-{month:02d}\")\n",
    "\n",
    "# The list `year_month_list` will now contain all years and months from 2019 to 2022 in the desired format\n",
    "year_month_list"
   ]
  },
  {
   "cell_type": "code",
   "execution_count": 18,
   "id": "0ae4934e",
   "metadata": {},
   "outputs": [],
   "source": [
    "df = pd.read_parquet('https://d37ci6vzurychx.cloudfront.net/trip-data/fhv_tripdata_2019-10.parquet')"
   ]
  },
  {
   "cell_type": "code",
   "execution_count": 19,
   "id": "ba9fe71c",
   "metadata": {},
   "outputs": [
    {
     "data": {
      "text/plain": [
       "Index(['dispatching_base_num', 'pickup_datetime', 'dropOff_datetime',\n",
       "       'PUlocationID', 'DOlocationID', 'SR_Flag', 'Affiliated_base_number'],\n",
       "      dtype='object')"
      ]
     },
     "execution_count": 19,
     "metadata": {},
     "output_type": "execute_result"
    }
   ],
   "source": [
    "df.columns"
   ]
  },
  {
   "cell_type": "code",
   "execution_count": 25,
   "id": "405a5edc",
   "metadata": {},
   "outputs": [],
   "source": [
    "year_month_list = ['2017-06','2018-05','2018-06','2018-08']"
   ]
  },
  {
   "cell_type": "code",
   "execution_count": 27,
   "id": "7b8a0090",
   "metadata": {
    "scrolled": false
   },
   "outputs": [],
   "source": [
    "for year_month in year_month_list:\n",
    "    file = r\"C:\\Users\\EvanSpiller\\Documents\\DS BootCamp\\Capstone\\data\\FHV_Compressed\\Special_Uncompressed\\fhv_tripdata_fixed_\" + year_month + \".parquet\"\n",
    "    compression(file)"
   ]
  },
  {
   "cell_type": "code",
   "execution_count": 25,
   "id": "1da0a416",
   "metadata": {},
   "outputs": [
    {
     "name": "stdout",
     "output_type": "stream",
     "text": [
      "Error compressing https://d37ci6vzurychx.cloudfront.net/trip-data/fhv_tripdata_2017-06.parquet: Casting from timestamp[us] to timestamp[ns] would result in out of bounds timestamp: 33055741734000000\n",
      "Error compressing https://d37ci6vzurychx.cloudfront.net/trip-data/fhv_tripdata_2018-05.parquet: Casting from timestamp[us] to timestamp[ns] would result in out of bounds timestamp: 32094334800000000\n",
      "Error compressing https://d37ci6vzurychx.cloudfront.net/trip-data/fhv_tripdata_2018-06.parquet: Casting from timestamp[us] to timestamp[ns] would result in out of bounds timestamp: 33085021500000000\n",
      "Error compressing https://d37ci6vzurychx.cloudfront.net/trip-data/fhv_tripdata_2018-08.parquet: Casting from timestamp[us] to timestamp[ns] would result in out of bounds timestamp: 33092525254000000\n",
      "Error compressing https://d37ci6vzurychx.cloudfront.net/trip-data/fhv_tripdata_2019-02.parquet: Casting from timestamp[us] to timestamp[ns] would result in out of bounds timestamp: 33106123800000000\n",
      "Error compressing https://d37ci6vzurychx.cloudfront.net/trip-data/fhv_tripdata_2019-03.parquet: Casting from timestamp[us] to timestamp[ns] would result in out of bounds timestamp: 33110396100000000\n",
      "Error compressing https://d37ci6vzurychx.cloudfront.net/trip-data/fhv_tripdata_2019-04.parquet: Casting from timestamp[us] to timestamp[ns] would result in out of bounds timestamp: 29956490948000000\n",
      "Error compressing https://d37ci6vzurychx.cloudfront.net/trip-data/fhv_tripdata_2019-07.parquet: Casting from timestamp[us] to timestamp[ns] would result in out of bounds timestamp: 33119051544000000\n",
      "Error compressing https://d37ci6vzurychx.cloudfront.net/trip-data/fhv_tripdata_2019-09.parquet: Casting from timestamp[us] to timestamp[ns] would result in out of bounds timestamp: 33124408344000000\n"
     ]
    }
   ],
   "source": [
    "for year_month in year_month_list:\n",
    "    file = \"https://d37ci6vzurychx.cloudfront.net/trip-data/fhv_tripdata_\" + year_month + \".parquet\"\n",
    "    try:\n",
    "        compression(file)\n",
    "    except Exception as e:\n",
    "        print(f\"Error compressing {file}: {e}\")\n",
    "        continue\n"
   ]
  },
  {
   "cell_type": "markdown",
   "id": "2fbfcad4",
   "metadata": {},
   "source": [
    "In addition to the thorny problem around timestamps, a lot of these earlier FHV files don't have DOLocationIDs or POLocationIDs for the majority of data."
   ]
  },
  {
   "cell_type": "code",
   "execution_count": 15,
   "id": "a61861ab",
   "metadata": {},
   "outputs": [],
   "source": [
    "new_file_path = r\"C:\\Users\\EvanSpiller\\Documents\\DS BootCamp\\Capstone\\data\\FHV_Compressed\\Special_Uncompressed\\fhv_tripdata_fixed_2018-08.parquet\""
   ]
  },
  {
   "cell_type": "code",
   "execution_count": 16,
   "id": "fe8502e1",
   "metadata": {},
   "outputs": [],
   "source": [
    "year_month= '2018-08'"
   ]
  },
  {
   "cell_type": "code",
   "execution_count": 17,
   "id": "a4e7f43d",
   "metadata": {},
   "outputs": [],
   "source": [
    "compression(new_file_path)"
   ]
  },
  {
   "cell_type": "code",
   "execution_count": 22,
   "id": "ddfb705f",
   "metadata": {},
   "outputs": [],
   "source": [
    "test = pd.read_parquet(r\"C:\\Users\\EvanSpiller\\Documents\\DS BootCamp\\Capstone\\data\\FHV_Compressed\\compressed_FHV_2018-08.parquet\")"
   ]
  },
  {
   "cell_type": "code",
   "execution_count": 23,
   "id": "62f2f175",
   "metadata": {},
   "outputs": [
    {
     "data": {
      "text/html": [
       "<div>\n",
       "<style scoped>\n",
       "    .dataframe tbody tr th:only-of-type {\n",
       "        vertical-align: middle;\n",
       "    }\n",
       "\n",
       "    .dataframe tbody tr th {\n",
       "        vertical-align: top;\n",
       "    }\n",
       "\n",
       "    .dataframe thead th {\n",
       "        text-align: right;\n",
       "    }\n",
       "</style>\n",
       "<table border=\"1\" class=\"dataframe\">\n",
       "  <thead>\n",
       "    <tr style=\"text-align: right;\">\n",
       "      <th></th>\n",
       "      <th>PUlocationID</th>\n",
       "      <th>DOlocationID</th>\n",
       "      <th>Year</th>\n",
       "      <th>Month</th>\n",
       "      <th>Day</th>\n",
       "      <th>Hour</th>\n",
       "      <th>trips</th>\n",
       "    </tr>\n",
       "  </thead>\n",
       "  <tbody>\n",
       "    <tr>\n",
       "      <th>0</th>\n",
       "      <td>0.0</td>\n",
       "      <td>0.0</td>\n",
       "      <td>2018</td>\n",
       "      <td>8</td>\n",
       "      <td>1</td>\n",
       "      <td>0</td>\n",
       "      <td>751</td>\n",
       "    </tr>\n",
       "    <tr>\n",
       "      <th>1</th>\n",
       "      <td>1.0</td>\n",
       "      <td>1.0</td>\n",
       "      <td>2018</td>\n",
       "      <td>8</td>\n",
       "      <td>1</td>\n",
       "      <td>0</td>\n",
       "      <td>2</td>\n",
       "    </tr>\n",
       "    <tr>\n",
       "      <th>2</th>\n",
       "      <td>1.0</td>\n",
       "      <td>4.0</td>\n",
       "      <td>2018</td>\n",
       "      <td>8</td>\n",
       "      <td>1</td>\n",
       "      <td>0</td>\n",
       "      <td>17</td>\n",
       "    </tr>\n",
       "    <tr>\n",
       "      <th>3</th>\n",
       "      <td>1.0</td>\n",
       "      <td>7.0</td>\n",
       "      <td>2018</td>\n",
       "      <td>8</td>\n",
       "      <td>1</td>\n",
       "      <td>0</td>\n",
       "      <td>7</td>\n",
       "    </tr>\n",
       "    <tr>\n",
       "      <th>4</th>\n",
       "      <td>1.0</td>\n",
       "      <td>9.0</td>\n",
       "      <td>2018</td>\n",
       "      <td>8</td>\n",
       "      <td>1</td>\n",
       "      <td>0</td>\n",
       "      <td>1</td>\n",
       "    </tr>\n",
       "    <tr>\n",
       "      <th>...</th>\n",
       "      <td>...</td>\n",
       "      <td>...</td>\n",
       "      <td>...</td>\n",
       "      <td>...</td>\n",
       "      <td>...</td>\n",
       "      <td>...</td>\n",
       "      <td>...</td>\n",
       "    </tr>\n",
       "    <tr>\n",
       "      <th>59792</th>\n",
       "      <td>265.0</td>\n",
       "      <td>261.0</td>\n",
       "      <td>2018</td>\n",
       "      <td>8</td>\n",
       "      <td>1</td>\n",
       "      <td>0</td>\n",
       "      <td>14</td>\n",
       "    </tr>\n",
       "    <tr>\n",
       "      <th>59793</th>\n",
       "      <td>265.0</td>\n",
       "      <td>262.0</td>\n",
       "      <td>2018</td>\n",
       "      <td>8</td>\n",
       "      <td>1</td>\n",
       "      <td>0</td>\n",
       "      <td>12</td>\n",
       "    </tr>\n",
       "    <tr>\n",
       "      <th>59794</th>\n",
       "      <td>265.0</td>\n",
       "      <td>263.0</td>\n",
       "      <td>2018</td>\n",
       "      <td>8</td>\n",
       "      <td>1</td>\n",
       "      <td>0</td>\n",
       "      <td>12</td>\n",
       "    </tr>\n",
       "    <tr>\n",
       "      <th>59795</th>\n",
       "      <td>265.0</td>\n",
       "      <td>264.0</td>\n",
       "      <td>2018</td>\n",
       "      <td>8</td>\n",
       "      <td>1</td>\n",
       "      <td>0</td>\n",
       "      <td>290</td>\n",
       "    </tr>\n",
       "    <tr>\n",
       "      <th>59796</th>\n",
       "      <td>265.0</td>\n",
       "      <td>265.0</td>\n",
       "      <td>2018</td>\n",
       "      <td>8</td>\n",
       "      <td>1</td>\n",
       "      <td>0</td>\n",
       "      <td>46834</td>\n",
       "    </tr>\n",
       "  </tbody>\n",
       "</table>\n",
       "<p>59797 rows × 7 columns</p>\n",
       "</div>"
      ],
      "text/plain": [
       "       PUlocationID  DOlocationID  Year  Month  Day  Hour  trips\n",
       "0               0.0           0.0  2018      8    1     0    751\n",
       "1               1.0           1.0  2018      8    1     0      2\n",
       "2               1.0           4.0  2018      8    1     0     17\n",
       "3               1.0           7.0  2018      8    1     0      7\n",
       "4               1.0           9.0  2018      8    1     0      1\n",
       "...             ...           ...   ...    ...  ...   ...    ...\n",
       "59792         265.0         261.0  2018      8    1     0     14\n",
       "59793         265.0         262.0  2018      8    1     0     12\n",
       "59794         265.0         263.0  2018      8    1     0     12\n",
       "59795         265.0         264.0  2018      8    1     0    290\n",
       "59796         265.0         265.0  2018      8    1     0  46834\n",
       "\n",
       "[59797 rows x 7 columns]"
      ]
     },
     "execution_count": 23,
     "metadata": {},
     "output_type": "execute_result"
    }
   ],
   "source": [
    "test"
   ]
  },
  {
   "cell_type": "code",
   "execution_count": null,
   "id": "d61db0b1",
   "metadata": {},
   "outputs": [],
   "source": [
    "# Empty list to store the results\n",
    "year_month_list = []\n",
    "\n",
    "# Loop through years from 2019 to 2022\n",
    "for year in range(2019,2020):\n",
    "    # Loop through months from 1 to 12\n",
    "    for month in range(1, 13):\n",
    "        # Format the year and month as \"YYYY-MM\" and append to the list\n",
    "        year_month_list.append(f\"{year}-{month:02d}\")\n",
    "\n",
    "# The list `year_month_list` will now contain all years and months from 2019 to 2022 in the desired format\n",
    "year_month_list = ['2019-02',\n",
    " '2019-03',\n",
    " '2019-04',\n",
    " '2019-05',\n",
    " '2019-06',\n",
    " '2019-07',\n",
    " '2019-08',\n",
    " '2019-09',\n",
    " '2019-10',\n",
    " '2019-11',\n",
    " '2019-12']"
   ]
  },
  {
   "cell_type": "code",
   "execution_count": null,
   "id": "7084f1d9",
   "metadata": {},
   "outputs": [],
   "source": [
    "for year_month in year_month_list:\n",
    "    file = \"https://d37ci6vzurychx.cloudfront.net/trip-data/fhv_tripdata_\" + year_month + \".parquet\"\n",
    "    compression(file)"
   ]
  },
  {
   "cell_type": "code",
   "execution_count": null,
   "id": "bcde933d",
   "metadata": {},
   "outputs": [],
   "source": [
    "year_month_list = []\n",
    "for year in range(2019,2024):\n",
    "    # Loop through months from 1 to 12\n",
    "    for month in range(1, 13):\n",
    "        # Format the year and month as \"YYYY-MM\" and append to the list\n",
    "        year_month_list.append(f\"{year}-{month:02d}\")\n",
    "\n",
    "# The list `year_month_list` will now contain all years and months from 2019 to 2022 in the desired format\n",
    "#HVFHV data starts in Feb 2019 and goes to april 2023.\n",
    "year_month_list =  ['2019-02',\n",
    " '2019-03',\n",
    " '2019-04',\n",
    " '2019-05',\n",
    " '2019-06',\n",
    " '2019-07',\n",
    " '2019-08',\n",
    " '2019-09',\n",
    " '2019-10',\n",
    " '2019-11',\n",
    " '2019-12',\n",
    " '2020-01',\n",
    " '2020-02',\n",
    " '2020-03',\n",
    " '2020-04',\n",
    " '2020-05',\n",
    " '2020-06',\n",
    " '2020-07',\n",
    " '2020-08',\n",
    " '2020-09',\n",
    " '2020-10',\n",
    " '2020-11',\n",
    " '2020-12',\n",
    " '2021-01',\n",
    " '2021-02',\n",
    " '2021-03',\n",
    " '2021-04',\n",
    " '2021-05',\n",
    " '2021-06',\n",
    " '2021-07',\n",
    " '2021-08',\n",
    " '2021-09',\n",
    " '2021-10',\n",
    " '2021-11',\n",
    " '2021-12',\n",
    " '2022-01',\n",
    " '2022-02',\n",
    " '2022-03',\n",
    " '2022-04',\n",
    " '2022-05',\n",
    " '2022-06',\n",
    " '2022-07',\n",
    " '2022-08',\n",
    " '2022-09',\n",
    " '2022-10',\n",
    " '2022-11',\n",
    " '2022-12',\n",
    " '2023-01',\n",
    " '2023-02',\n",
    " '2023-03',\n",
    " '2023-04']\n"
   ]
  },
  {
   "cell_type": "code",
   "execution_count": null,
   "id": "68f3cef9",
   "metadata": {},
   "outputs": [
    {
     "name": "stdout",
     "output_type": "stream",
     "text": [
      "['2019-02', '2019-03', '2019-04', '2019-05', '2019-06', '2019-07', '2019-08', '2019-09', '2019-10', '2019-11', '2019-12', '2020-01', '2020-02', '2020-03', '2020-04', '2020-05', '2020-06', '2020-07', '2020-08', '2020-09', '2020-10', '2020-11', '2020-12', '2021-01', '2021-02', '2021-03', '2021-04', '2021-05', '2021-06', '2021-07', '2021-08', '2021-09', '2021-10', '2021-11', '2021-12', '2022-01', '2022-02', '2022-03', '2022-04', '2022-05', '2022-06', '2022-07', '2022-08', '2022-09', '2022-10', '2022-11', '2022-12', '2023-01', '2023-02', '2023-03', '2023-04']\n"
     ]
    }
   ],
   "source": [
    "print(year_month_list)"
   ]
  },
  {
   "cell_type": "code",
   "execution_count": null,
   "id": "63862342",
   "metadata": {},
   "outputs": [
    {
     "name": "stdout",
     "output_type": "stream",
     "text": [
      "2019-02 , 6447091\n",
      "2019-03 , 7480020\n",
      "2019-04 , 7020231\n",
      "2019-05 , 7182380\n",
      "2019-06 , 6899404\n",
      "2019-07 , 6857375\n",
      "2019-08 , 6922793\n",
      "2019-09 , 6713666\n",
      "2019-10 , 6907533\n",
      "2019-11 , 6878251\n",
      "2019-12 , 7013408\n",
      "2020-01 , 6728272\n",
      "2020-02 , 6714450\n",
      "2020-03 , 5145110\n",
      "2020-04 , 2658678\n",
      "2020-05 , 3522982\n",
      "2020-06 , 4094492\n",
      "2020-07 , 5006918\n",
      "2020-08 , 5392083\n",
      "2020-09 , 5602243\n",
      "2020-10 , 5863761\n",
      "2020-11 , 5321542\n",
      "2020-12 , 5287741\n",
      "2021-01 , 5426415\n",
      "2021-02 , 5104301\n",
      "2021-03 , 6135044\n",
      "2021-04 , 6046947\n",
      "2021-05 , 6302712\n",
      "2021-06 , 6281523\n",
      "2021-07 , 6351125\n",
      "2021-08 , 6247082\n",
      "2021-09 , 6149096\n",
      "2021-10 , 6467425\n",
      "2021-11 , 6191080\n",
      "2021-12 , 6265516\n",
      "2022-01 , 5998112\n",
      "2022-02 , 5991488\n",
      "2022-03 , 6764384\n",
      "2022-04 , 6635419\n",
      "2022-05 , 6809512\n",
      "2022-06 , 6646541\n",
      "2022-07 , 6763067\n",
      "2022-08 , 6721232\n",
      "2022-09 , 6602439\n",
      "2022-10 , 6912245\n",
      "2022-11 , 6506716\n",
      "2022-12 , 6832756\n",
      "2023-01 , 6678980\n",
      "2023-02 , 6272648\n",
      "2023-03 , 7067397\n",
      "2023-04 , 6825152\n"
     ]
    }
   ],
   "source": [
    "for year_month in year_month_list:\n",
    "    new_file_path = r\"C:\\Users\\EvanSpiller\\Documents\\DS BootCamp\\Capstone\\data\\HVFHV_Compressed\\compressed_HVFHV_\" + year_month\n",
    "    df = pd.read_parquet(new_file_path)\n",
    "    shape = df.shape\n",
    "    print(year_month,\",\",shape[0])\n",
    "#just looking to see how big I can reasonably make the groupings. I think two years at a time will work."
   ]
  },
  {
   "cell_type": "code",
   "execution_count": 76,
   "id": "56ec1cdc",
   "metadata": {},
   "outputs": [
    {
     "data": {
      "text/plain": [
       "['2018-01',\n",
       " '2018-02',\n",
       " '2018-03',\n",
       " '2018-04',\n",
       " '2018-05',\n",
       " '2018-06',\n",
       " '2018-07',\n",
       " '2018-08',\n",
       " '2018-09',\n",
       " '2018-10',\n",
       " '2018-11',\n",
       " '2018-12']"
      ]
     },
     "execution_count": 76,
     "metadata": {},
     "output_type": "execute_result"
    }
   ],
   "source": [
    "# Empty list to store the results\n",
    "year_month_list = []\n",
    "\n",
    "# Loop through years from 2019 to 2022\n",
    "for year in range(2018, 2019):\n",
    "    # Loop through months from 1 to 12\n",
    "    for month in range(1, 13):\n",
    "        # Format the year and month as \"YYYY-MM\" and append to the list\n",
    "        year_month_list.append(f\"{year}-{month:02d}\")\n",
    "\n",
    "# The list `year_month_list` will now contain all years and months from 2019 to 2022 in the desired format\n",
    "year_month_list"
   ]
  },
  {
   "cell_type": "code",
   "execution_count": 77,
   "id": "05591b7e",
   "metadata": {},
   "outputs": [],
   "source": [
    "new_file_paths = []\n",
    "for year_month in year_month_list:\n",
    "    new_file_path = r\"C:\\Users\\EvanSpiller\\Documents\\DS BootCamp\\Capstone\\data\\FHV_Compressed\\compressed_FHV_\" + year_month + \".parquet\"\n",
    "    new_file_paths.append(new_file_path)"
   ]
  },
  {
   "cell_type": "code",
   "execution_count": 78,
   "id": "650467ed",
   "metadata": {},
   "outputs": [],
   "source": [
    "new_file_path_2018 = new_file_paths"
   ]
  },
  {
   "cell_type": "code",
   "execution_count": 79,
   "id": "e478039b",
   "metadata": {},
   "outputs": [],
   "source": [
    "dfs_fhv_2018 = []\n",
    "\n",
    "for file_path in new_file_path_2018:\n",
    "    df = pd.read_parquet(file_path)\n",
    "    dfs_fhv_2018.append(df)\n"
   ]
  },
  {
   "cell_type": "code",
   "execution_count": 81,
   "id": "d67486eb",
   "metadata": {},
   "outputs": [],
   "source": [
    "full_compressed_FHV_2018 = pd.concat(dfs_fhv_2018, axis=0, ignore_index=True)"
   ]
  },
  {
   "cell_type": "code",
   "execution_count": 82,
   "metadata": {},
   "outputs": [
    {
     "data": {
      "text/html": [
       "<div>\n",
       "<style scoped>\n",
       "    .dataframe tbody tr th:only-of-type {\n",
       "        vertical-align: middle;\n",
       "    }\n",
       "\n",
       "    .dataframe tbody tr th {\n",
       "        vertical-align: top;\n",
       "    }\n",
       "\n",
       "    .dataframe thead th {\n",
       "        text-align: right;\n",
       "    }\n",
       "</style>\n",
       "<table border=\"1\" class=\"dataframe\">\n",
       "  <thead>\n",
       "    <tr style=\"text-align: right;\">\n",
       "      <th></th>\n",
       "      <th>PUlocationID</th>\n",
       "      <th>DOlocationID</th>\n",
       "      <th>Year</th>\n",
       "      <th>Month</th>\n",
       "      <th>Day</th>\n",
       "      <th>Hour</th>\n",
       "      <th>trips</th>\n",
       "    </tr>\n",
       "  </thead>\n",
       "  <tbody>\n",
       "    <tr>\n",
       "      <th>0</th>\n",
       "      <td>0.0</td>\n",
       "      <td>0.0</td>\n",
       "      <td>2018</td>\n",
       "      <td>1</td>\n",
       "      <td>1</td>\n",
       "      <td>7</td>\n",
       "      <td>1</td>\n",
       "    </tr>\n",
       "    <tr>\n",
       "      <th>1</th>\n",
       "      <td>0.0</td>\n",
       "      <td>0.0</td>\n",
       "      <td>2018</td>\n",
       "      <td>1</td>\n",
       "      <td>1</td>\n",
       "      <td>9</td>\n",
       "      <td>2</td>\n",
       "    </tr>\n",
       "    <tr>\n",
       "      <th>2</th>\n",
       "      <td>0.0</td>\n",
       "      <td>0.0</td>\n",
       "      <td>2018</td>\n",
       "      <td>1</td>\n",
       "      <td>1</td>\n",
       "      <td>10</td>\n",
       "      <td>3</td>\n",
       "    </tr>\n",
       "    <tr>\n",
       "      <th>3</th>\n",
       "      <td>0.0</td>\n",
       "      <td>0.0</td>\n",
       "      <td>2018</td>\n",
       "      <td>1</td>\n",
       "      <td>1</td>\n",
       "      <td>11</td>\n",
       "      <td>3</td>\n",
       "    </tr>\n",
       "    <tr>\n",
       "      <th>4</th>\n",
       "      <td>0.0</td>\n",
       "      <td>0.0</td>\n",
       "      <td>2018</td>\n",
       "      <td>1</td>\n",
       "      <td>1</td>\n",
       "      <td>12</td>\n",
       "      <td>3</td>\n",
       "    </tr>\n",
       "    <tr>\n",
       "      <th>...</th>\n",
       "      <td>...</td>\n",
       "      <td>...</td>\n",
       "      <td>...</td>\n",
       "      <td>...</td>\n",
       "      <td>...</td>\n",
       "      <td>...</td>\n",
       "      <td>...</td>\n",
       "    </tr>\n",
       "    <tr>\n",
       "      <th>60152666</th>\n",
       "      <td>265.0</td>\n",
       "      <td>265.0</td>\n",
       "      <td>2018</td>\n",
       "      <td>12</td>\n",
       "      <td>31</td>\n",
       "      <td>20</td>\n",
       "      <td>87</td>\n",
       "    </tr>\n",
       "    <tr>\n",
       "      <th>60152667</th>\n",
       "      <td>265.0</td>\n",
       "      <td>265.0</td>\n",
       "      <td>2018</td>\n",
       "      <td>12</td>\n",
       "      <td>31</td>\n",
       "      <td>21</td>\n",
       "      <td>84</td>\n",
       "    </tr>\n",
       "    <tr>\n",
       "      <th>60152668</th>\n",
       "      <td>265.0</td>\n",
       "      <td>265.0</td>\n",
       "      <td>2018</td>\n",
       "      <td>12</td>\n",
       "      <td>31</td>\n",
       "      <td>22</td>\n",
       "      <td>51</td>\n",
       "    </tr>\n",
       "    <tr>\n",
       "      <th>60152669</th>\n",
       "      <td>265.0</td>\n",
       "      <td>265.0</td>\n",
       "      <td>2018</td>\n",
       "      <td>12</td>\n",
       "      <td>31</td>\n",
       "      <td>23</td>\n",
       "      <td>62</td>\n",
       "    </tr>\n",
       "    <tr>\n",
       "      <th>60152670</th>\n",
       "      <td>265.0</td>\n",
       "      <td>265.0</td>\n",
       "      <td>2019</td>\n",
       "      <td>1</td>\n",
       "      <td>1</td>\n",
       "      <td>0</td>\n",
       "      <td>9</td>\n",
       "    </tr>\n",
       "  </tbody>\n",
       "</table>\n",
       "<p>60152671 rows × 7 columns</p>\n",
       "</div>"
      ],
      "text/plain": [
       "          PUlocationID  DOlocationID  Year  Month  Day  Hour  trips\n",
       "0                  0.0           0.0  2018      1    1     7      1\n",
       "1                  0.0           0.0  2018      1    1     9      2\n",
       "2                  0.0           0.0  2018      1    1    10      3\n",
       "3                  0.0           0.0  2018      1    1    11      3\n",
       "4                  0.0           0.0  2018      1    1    12      3\n",
       "...                ...           ...   ...    ...  ...   ...    ...\n",
       "60152666         265.0         265.0  2018     12   31    20     87\n",
       "60152667         265.0         265.0  2018     12   31    21     84\n",
       "60152668         265.0         265.0  2018     12   31    22     51\n",
       "60152669         265.0         265.0  2018     12   31    23     62\n",
       "60152670         265.0         265.0  2019      1    1     0      9\n",
       "\n",
       "[60152671 rows x 7 columns]"
      ]
     },
     "execution_count": 82,
     "metadata": {},
     "output_type": "execute_result"
    }
   ],
   "source": [
    "full_compressed_FHV_2018"
   ]
  },
  {
   "cell_type": "code",
   "execution_count": 83,
   "id": "d1ad2b33",
   "metadata": {},
   "outputs": [],
   "source": [
    "full_compressed_FHV_2018.to_parquet(r'C:\\Users\\EvanSpiller\\Documents\\DS BootCamp\\Capstone\\data\\HVFHV_Compressed\\Combined\\full_compressed_FHV_2018', engine='pyarrow')"
   ]
  }
 ],
 "metadata": {
  "kernelspec": {
   "display_name": "Python 3 (ipykernel)",
   "language": "python",
   "name": "python3"
  },
  "language_info": {
   "codemirror_mode": {
    "name": "ipython",
    "version": 3
   },
   "file_extension": ".py",
   "mimetype": "text/x-python",
   "name": "python",
   "nbconvert_exporter": "python",
   "pygments_lexer": "ipython3",
   "version": "3.7.12"
  }
 },
 "nbformat": 4,
 "nbformat_minor": 5
}
