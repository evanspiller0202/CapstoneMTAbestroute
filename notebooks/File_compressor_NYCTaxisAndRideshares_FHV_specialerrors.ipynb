{
 "cells": [
  {
   "cell_type": "code",
   "execution_count": 1,
   "metadata": {},
   "outputs": [],
   "source": [
    "import pyarrow.parquet as pq\n",
    "import pandas as pd\n"
   ]
  },
  {
   "cell_type": "markdown",
   "metadata": {},
   "source": [
    "In some of the original parquet files provided by the city of new york, the dropoff time and pickup time were put in a special format that parquet couldn't read. I changed the format in pyarrow and then read them into parquet and saved them."
   ]
  },
  {
   "cell_type": "code",
   "execution_count": 2,
   "metadata": {},
   "outputs": [],
   "source": [
    "parquet_file_path = r\"C:\\Users\\EvanSpiller\\Downloads\\fhv_tripdata_2018-06.parquet\"\n",
    "# Read the Parquet file using PyArrow\n",
    "table = pq.read_table(parquet_file_path)\n",
    "datetimecolumn = pd.DataFrame(table['pickup_datetime']) #reading the problem column in a pandas df\n",
    "datetimecolumn.rename(columns={0: 'pickup_datetime'}, inplace=True) #renaming it\n",
    "datetimecolumn['pickup_datetime'] = str(datetimecolumn['pickup_datetime']) #turning it into a string\n",
    "datetime_strings = []\n",
    "#using a for loop to loop through the strings and create new strings that can be converted into regular datetimes\n",
    "for x in range(len(datetimecolumn['pickup_datetime'])):\n",
    "    dummy= datetimecolumn['pickup_datetime'][x]\n",
    "    string = str.split(dummy)[1]+\" \" + str.split(dummy)[2] \n",
    "    datetime_strings.append(string)\n",
    "datetimecolumn['datetime_string'] = datetime_strings\n",
    "datetimecolumn['pickup_datetime'] = pd.to_datetime(datetimecolumn['datetime_string'])"
   ]
  },
  {
   "cell_type": "code",
   "execution_count": 54,
   "metadata": {},
   "outputs": [],
   "source": [
    "#same code but for dropoff datetimes instead of pickup datetimes\n",
    "datetimecolumn['dropOff_datetime'] = pd.DataFrame(table['dropOff_datetime'])\n",
    "datetimecolumn['dropOff_datetime'] = str(datetimecolumn['dropOff_datetime'])\n",
    "datetime_strings = []\n",
    "for x in range(len(datetimecolumn['dropOff_datetime'])):\n",
    "    dummy= datetimecolumn['dropOff_datetime'][x]\n",
    "    string = str.split(dummy)[1]+\" \" + str.split(dummy)[2]\n",
    "    datetime_strings.append(string)\n",
    "datetimecolumn['datetime_string'] = datetime_strings\n",
    "datetimecolumn['dropOff_datetime'] = pd.to_datetime(datetimecolumn['datetime_string'])"
   ]
  },
  {
   "cell_type": "code",
   "execution_count": 55,
   "metadata": {},
   "outputs": [],
   "source": [
    "df = pq.read_table(parquet_file_path, columns=['dispatching_base_num',\n",
    "       'PUlocationID', 'DOlocationID', 'SR_Flag', 'Affiliated_base_number'])"
   ]
  },
  {
   "cell_type": "code",
   "execution_count": 56,
   "metadata": {},
   "outputs": [],
   "source": [
    "df = df.to_pandas()\n",
    "#sending everything but the problem columns to pandas in the original df"
   ]
  },
  {
   "cell_type": "code",
   "execution_count": 57,
   "metadata": {},
   "outputs": [],
   "source": [
    "datetimecolumn.drop('datetime_string', axis = 1, inplace = True)"
   ]
  },
  {
   "cell_type": "code",
   "execution_count": 58,
   "metadata": {},
   "outputs": [],
   "source": [
    "merged_df = pd.merge(df, datetimecolumn, left_index=True, right_index=True)\n",
    "#merging the dataframe of fixed columns with my original df so i have all columns"
   ]
  },
  {
   "cell_type": "code",
   "execution_count": 59,
   "metadata": {},
   "outputs": [],
   "source": [
    "new_file_path = r\"C:\\Users\\EvanSpiller\\Documents\\DS BootCamp\\Capstone\\data\\FHV_Compressed\\Special_Uncompressed\\fhv_tripdata_fixed_2018-06.parquet\"\n",
    "#sending the final file to a csv"
   ]
  },
  {
   "cell_type": "code",
   "execution_count": 60,
   "metadata": {},
   "outputs": [],
   "source": [
    "import pyarrow"
   ]
  },
  {
   "cell_type": "code",
   "execution_count": 61,
   "metadata": {},
   "outputs": [],
   "source": [
    "merged_df.to_parquet(new_file_path, engine='pyarrow')\n"
   ]
  },
  {
   "cell_type": "code",
   "execution_count": 62,
   "metadata": {},
   "outputs": [
    {
     "data": {
      "text/plain": [
       "dispatching_base_num             0\n",
       "PUlocationID               3065436\n",
       "DOlocationID               1570497\n",
       "SR_Flag                   16425394\n",
       "Affiliated_base_number        5486\n",
       "pickup_datetime                  0\n",
       "dropOff_datetime                 0\n",
       "dtype: int64"
      ]
     },
     "execution_count": 62,
     "metadata": {},
     "output_type": "execute_result"
    }
   ],
   "source": [
    "merged_df.isna().sum()\n",
    "#just some basic file inspection -- 14.5% na's for an important field -- no way to impute values."
   ]
  },
  {
   "cell_type": "code",
   "execution_count": 73,
   "metadata": {},
   "outputs": [
    {
     "data": {
      "text/plain": [
       "RangeIndex(start=0, stop=21137951, step=1)"
      ]
     },
     "execution_count": 73,
     "metadata": {},
     "output_type": "execute_result"
    }
   ],
   "source": [
    "merged_df.index"
   ]
  },
  {
   "cell_type": "code",
   "execution_count": 1,
   "metadata": {},
   "outputs": [
    {
     "data": {
      "text/plain": [
       "0.14502048945046755"
      ]
     },
     "execution_count": 1,
     "metadata": {},
     "output_type": "execute_result"
    }
   ],
   "source": [
    "3065436/21137951"
   ]
  }
 ],
 "metadata": {
  "kernelspec": {
   "display_name": "capstone",
   "language": "python",
   "name": "python3"
  },
  "language_info": {
   "codemirror_mode": {
    "name": "ipython",
    "version": 3
   },
   "file_extension": ".py",
   "mimetype": "text/x-python",
   "name": "python",
   "nbconvert_exporter": "python",
   "pygments_lexer": "ipython3",
   "version": "3.7.12"
  },
  "orig_nbformat": 4
 },
 "nbformat": 4,
 "nbformat_minor": 2
}
