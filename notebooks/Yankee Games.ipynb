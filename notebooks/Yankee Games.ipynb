{
 "cells": [
  {
   "cell_type": "code",
   "execution_count": 1,
   "id": "e9790b21",
   "metadata": {},
   "outputs": [],
   "source": [
    "import numpy as np\n",
    "import pandas as pd\n",
    "import matplotlib.pyplot as plt\n"
   ]
  },
  {
   "cell_type": "markdown",
   "id": "38880f3d",
   "metadata": {},
   "source": [
    "The goal of this workbook is to see if there is a statistical sigificance in rideshare rides from yankee stadium on gamedays depending on whether the yankees won or lost. Same analysis is included in EDA_Final with better markdown."
   ]
  },
  {
   "cell_type": "code",
   "execution_count": 33,
   "id": "170cf086",
   "metadata": {},
   "outputs": [],
   "source": [
    "rideshares = pd.read_parquet(r'C:\\Users\\EvanSpiller\\Documents\\DS BootCamp\\Capstone\\data\\HVFHV_Compressed\\Combined\\full_compressed_HVFHV_2022_2023.parquet')"
   ]
  },
  {
   "cell_type": "code",
   "execution_count": 38,
   "id": "1b51f7ef",
   "metadata": {
    "scrolled": false
   },
   "outputs": [
    {
     "name": "stderr",
     "output_type": "stream",
     "text": [
      "C:\\Users\\EvanSpiller\\AppData\\Local\\Temp\\ipykernel_1608\\3852101514.py:14: SettingWithCopyWarning: \n",
      "A value is trying to be set on a copy of a slice from a DataFrame.\n",
      "Try using .loc[row_indexer,col_indexer] = value instead\n",
      "\n",
      "See the caveats in the documentation: https://pandas.pydata.org/pandas-docs/stable/user_guide/indexing.html#returning-a-view-versus-a-copy\n",
      "  baseball_game_2022['Date'] = pd.to_datetime(baseball_game_2022[['Year', 'Month', 'Day']])\n"
     ]
    }
   ],
   "source": [
    "baseball_game_2022 = rideshares.loc[\n",
    "    (\n",
    "        (\n",
    "            (rideshares['PULocationID'] == 247)\n",
    "        )\n",
    "    & (rideshares['Year'] == 2022)\n",
    "     & (rideshares['Hour']>=21 )\n",
    "    )\n",
    "]\n",
    "yankees_games_2022 = pd.read_csv(r'C:\\Users\\EvanSpiller\\Documents\\DS BootCamp\\Capstone\\data\\Yankees_Games_2022.csv')\n",
    "yankees_games_2022['Date_Proper'] = pd.to_datetime(yankees_games_2022['Date'] + ', 2022', format=\"%A %b %d, %Y\")\n",
    "yankees_games_2022.drop('Date', inplace = True, axis = 1)\n",
    "yankees_games_2022['Date'] = yankees_games_2022['Date_Proper']\n",
    "baseball_game_2022['Date'] = pd.to_datetime(baseball_game_2022[['Year', 'Month', 'Day']])\n",
    "baseball_game_2022 = baseball_game_2022.groupby('Date').sum()['trips']\n",
    "baseball_game_2022 = pd.merge(baseball_game_2022, yankees_games_2022, on='Date', how='inner')\n",
    "baseball_game_2022 = pd.get_dummies(baseball_game_2022, columns=['W/L'])"
   ]
  },
  {
   "cell_type": "code",
   "execution_count": 39,
   "id": "6635809a",
   "metadata": {},
   "outputs": [],
   "source": [
    "baseball_game_2022.rename(columns = {'W/L_W': \"Win\"}, inplace = True)\n",
    "baseball_game_2022.drop(['Date_Proper','W/L_L','Date'], axis =1, inplace = True)\n",
    "Wins_2022 = baseball_game_2022.loc[baseball_game_2022['Win']==True]\n",
    "Losses_2022 = baseball_game_2022.loc[baseball_game_2022['Win']==False]"
   ]
  },
  {
   "cell_type": "code",
   "execution_count": 85,
   "id": "b203d831",
   "metadata": {},
   "outputs": [],
   "source": [
    "rideshares = pd.read_parquet(r'C:\\Users\\EvanSpiller\\Documents\\DS BootCamp\\Capstone\\data\\HVFHV_Compressed\\Combined\\full_compressed_HVFHV_2021.parquet')"
   ]
  },
  {
   "cell_type": "code",
   "execution_count": 86,
   "id": "1747f575",
   "metadata": {},
   "outputs": [
    {
     "name": "stderr",
     "output_type": "stream",
     "text": [
      "C:\\Users\\EvanSpiller\\AppData\\Local\\Temp\\ipykernel_1608\\2673782043.py:14: SettingWithCopyWarning: \n",
      "A value is trying to be set on a copy of a slice from a DataFrame.\n",
      "Try using .loc[row_indexer,col_indexer] = value instead\n",
      "\n",
      "See the caveats in the documentation: https://pandas.pydata.org/pandas-docs/stable/user_guide/indexing.html#returning-a-view-versus-a-copy\n",
      "  baseball_game_2021['Date'] = pd.to_datetime(baseball_game_2021[['Year', 'Month', 'Day']])\n"
     ]
    }
   ],
   "source": [
    "baseball_game_2021 = rideshares.loc[\n",
    "    (\n",
    "        (\n",
    "            (rideshares['PULocationID'] == 247)\n",
    "        )\n",
    "    & (rideshares['Year'] == 2021)\n",
    "     & (rideshares['Hour']>=21 )\n",
    "    )\n",
    "]\n",
    "yankees_games_2021 = pd.read_csv(r'C:\\Users\\EvanSpiller\\Documents\\DS BootCamp\\Capstone\\data\\Yankees_Games_2021.csv')\n",
    "yankees_games_2021['Date_Proper'] = pd.to_datetime(yankees_games_2021['Date'] + ', 2021', format=\"%A %b %d, %Y\")\n",
    "yankees_games_2021.drop('Date', inplace = True, axis = 1)\n",
    "yankees_games_2021['Date'] = yankees_games_2021['Date_Proper']\n",
    "baseball_game_2021['Date'] = pd.to_datetime(baseball_game_2021[['Year', 'Month', 'Day']])\n",
    "baseball_game_2021 = baseball_game_2021.groupby('Date').sum()['trips']\n",
    "baseball_game_2021 = pd.merge(baseball_game_2021, yankees_games_2021, on='Date', how='inner')\n",
    "baseball_game_2021 = pd.get_dummies(baseball_game_2021, columns=['W/L'])"
   ]
  },
  {
   "cell_type": "code",
   "execution_count": 87,
   "id": "599d8eee",
   "metadata": {
    "scrolled": false
   },
   "outputs": [],
   "source": [
    "baseball_game_2021.rename(columns = {'W/L_W': \"Win\"}, inplace = True)\n",
    "baseball_game_2021.drop(['Date_Proper','W/L_L','Date'], axis =1, inplace = True)\n",
    "Wins_2021 = baseball_game_2021.loc[baseball_game_2021['Win']==True]\n",
    "Losses_2021 = baseball_game_2021.loc[baseball_game_2021['Win']==False]"
   ]
  },
  {
   "cell_type": "code",
   "execution_count": 88,
   "id": "ad96378e",
   "metadata": {},
   "outputs": [],
   "source": [
    "rideshares = pd.read_parquet(r'C:\\Users\\EvanSpiller\\Documents\\DS BootCamp\\Capstone\\data\\HVFHV_Compressed\\Combined\\full_compressed_HVFHV_2019_2020.parquet')"
   ]
  },
  {
   "cell_type": "code",
   "execution_count": 89,
   "id": "7ed702ea",
   "metadata": {},
   "outputs": [
    {
     "name": "stderr",
     "output_type": "stream",
     "text": [
      "C:\\Users\\EvanSpiller\\AppData\\Local\\Temp\\ipykernel_1608\\4263478357.py:14: SettingWithCopyWarning: \n",
      "A value is trying to be set on a copy of a slice from a DataFrame.\n",
      "Try using .loc[row_indexer,col_indexer] = value instead\n",
      "\n",
      "See the caveats in the documentation: https://pandas.pydata.org/pandas-docs/stable/user_guide/indexing.html#returning-a-view-versus-a-copy\n",
      "  baseball_game_2019['Date'] = pd.to_datetime(baseball_game_2019[['Year', 'Month', 'Day']])\n"
     ]
    }
   ],
   "source": [
    "baseball_game_2019 = rideshares.loc[\n",
    "    (\n",
    "        (\n",
    "            (rideshares['PULocationID'] == 247)\n",
    "        )\n",
    "    & (rideshares['Year'] == 2019)\n",
    "     & (rideshares['Hour']>=21 )\n",
    "    )\n",
    "]\n",
    "yankees_games_2019 = pd.read_csv(r'C:\\Users\\EvanSpiller\\Documents\\DS BootCamp\\Capstone\\data\\Yankees_Games_2019.csv')\n",
    "yankees_games_2019['Date_Proper'] = pd.to_datetime(yankees_games_2019['Date'] + ', 2019', format=\"%A %b %d, %Y\")\n",
    "yankees_games_2019.drop('Date', inplace = True, axis = 1)\n",
    "yankees_games_2019['Date'] = yankees_games_2019['Date_Proper']\n",
    "baseball_game_2019['Date'] = pd.to_datetime(baseball_game_2019[['Year', 'Month', 'Day']])\n",
    "baseball_game_2019 = baseball_game_2019.groupby('Date').sum()['trips']\n",
    "baseball_game_2019 = pd.merge(baseball_game_2019, yankees_games_2019, on='Date', how='inner')\n",
    "baseball_game_2019 = pd.get_dummies(baseball_game_2019, columns=['W/L'])\n",
    "baseball_game_2019.rename(columns = {'W/L_W': \"Win\"}, inplace = True)\n",
    "baseball_game_2019.drop(['Date_Proper','W/L_L','Date'], axis =1, inplace = True)\n",
    "Wins_2019 = baseball_game_2019.loc[baseball_game_2019['Win']==True]\n",
    "Losses_2019 = baseball_game_2019.loc[baseball_game_2019['Win']==False]"
   ]
  },
  {
   "cell_type": "code",
   "execution_count": 111,
   "id": "9a498221",
   "metadata": {},
   "outputs": [],
   "source": [
    "Wins = pd.concat([Wins_2019,Wins_2021, Wins_2022], axis=0)\n"
   ]
  },
  {
   "cell_type": "code",
   "execution_count": 91,
   "id": "8b29b2cc",
   "metadata": {},
   "outputs": [
    {
     "data": {
      "text/plain": [
       "81"
      ]
     },
     "execution_count": 91,
     "metadata": {},
     "output_type": "execute_result"
    }
   ],
   "source": [
    "Wins_2019.shape[0] + Losses_2019.shape[0]"
   ]
  },
  {
   "cell_type": "code",
   "execution_count": 112,
   "id": "8c91baa4",
   "metadata": {},
   "outputs": [],
   "source": [
    "Losses = pd.concat([Losses_2019, Losses_2021, Losses_2022], axis=0)\n"
   ]
  },
  {
   "cell_type": "code",
   "execution_count": 109,
   "id": "274a7811",
   "metadata": {},
   "outputs": [
    {
     "data": {
      "text/plain": [
       "243"
      ]
     },
     "execution_count": 109,
     "metadata": {},
     "output_type": "execute_result"
    }
   ],
   "source": [
    "81*3"
   ]
  },
  {
   "cell_type": "code",
   "execution_count": 118,
   "id": "c243a30d",
   "metadata": {},
   "outputs": [
    {
     "data": {
      "text/plain": [
       "243"
      ]
     },
     "execution_count": 118,
     "metadata": {},
     "output_type": "execute_result"
    }
   ],
   "source": [
    "Wins.shape[0]+Losses.shape[0]"
   ]
  },
  {
   "cell_type": "code",
   "execution_count": 114,
   "id": "00ef7337",
   "metadata": {},
   "outputs": [
    {
     "name": "stdout",
     "output_type": "stream",
     "text": [
      "Ttest_indResult(statistic=0.8394994815507496, pvalue=0.402021064169119)\n"
     ]
    }
   ],
   "source": [
    "from scipy import stats\n",
    "\n",
    "two_sample_test = stats.ttest_ind(Wins['trips'], Losses['trips']) \n",
    "\n",
    "print(two_sample_test)"
   ]
  },
  {
   "cell_type": "code",
   "execution_count": 115,
   "id": "328ece56",
   "metadata": {
    "scrolled": true
   },
   "outputs": [
    {
     "data": {
      "text/plain": [
       "trips    731.24375\n",
       "Win        1.00000\n",
       "dtype: float64"
      ]
     },
     "execution_count": 115,
     "metadata": {},
     "output_type": "execute_result"
    }
   ],
   "source": [
    "Wins.mean()"
   ]
  },
  {
   "cell_type": "code",
   "execution_count": 116,
   "id": "b543f94b",
   "metadata": {},
   "outputs": [
    {
     "data": {
      "text/plain": [
       "trips    702.746988\n",
       "Win        0.000000\n",
       "dtype: float64"
      ]
     },
     "execution_count": 116,
     "metadata": {},
     "output_type": "execute_result"
    }
   ],
   "source": [
    "Losses.mean()"
   ]
  },
  {
   "cell_type": "markdown",
   "id": "a4d52e6c",
   "metadata": {},
   "source": [
    "With all three years of data, we can see pretty clearly there's likely not a correlation between Yankee record and the number of rideshare rides."
   ]
  }
 ],
 "metadata": {
  "kernelspec": {
   "display_name": "Python 3 (ipykernel)",
   "language": "python",
   "name": "python3"
  },
  "language_info": {
   "codemirror_mode": {
    "name": "ipython",
    "version": 3
   },
   "file_extension": ".py",
   "mimetype": "text/x-python",
   "name": "python",
   "nbconvert_exporter": "python",
   "pygments_lexer": "ipython3",
   "version": "3.9.13"
  }
 },
 "nbformat": 4,
 "nbformat_minor": 5
}
