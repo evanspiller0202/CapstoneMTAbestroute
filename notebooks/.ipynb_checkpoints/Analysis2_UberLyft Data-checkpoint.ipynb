{
 "cells": [
  {
   "cell_type": "code",
   "execution_count": 3,
   "id": "583a1e62",
   "metadata": {},
   "outputs": [],
   "source": [
    "import numpy as np\n",
    "import pandas as pd"
   ]
  },
  {
   "cell_type": "code",
   "execution_count": 4,
   "id": "ec837aa2",
   "metadata": {},
   "outputs": [],
   "source": [
    "rideshares = pd.read_parquet(r'C:\\Users\\EvanSpiller\\Documents\\DS BootCamp\\Capstone\\data\\fhvhv_tripdata_2023-01.parquet')"
   ]
  },
  {
   "cell_type": "code",
   "execution_count": 5,
   "id": "a4cab2ed",
   "metadata": {},
   "outputs": [
    {
     "data": {
      "text/plain": [
       "DOLocationID\n",
       "265    723563\n",
       "132    365191\n",
       "138    327261\n",
       "61     255075\n",
       "79     237542\n",
       "161    215487\n",
       "37     212090\n",
       "230    210496\n",
       "68     202884\n",
       "246    196605\n",
       "Name: count, dtype: int64"
      ]
     },
     "execution_count": 5,
     "metadata": {},
     "output_type": "execute_result"
    }
   ],
   "source": [
    "rideshares['DOLocationID'].value_counts().head(10)"
   ]
  },
  {
   "cell_type": "code",
   "execution_count": 6,
   "id": "86c577f7",
   "metadata": {},
   "outputs": [],
   "source": [
    "rideshareschdo = rideshares.loc[rideshares['DOLocationID']==61,:]"
   ]
  },
  {
   "cell_type": "code",
   "execution_count": 30,
   "id": "8906b399",
   "metadata": {},
   "outputs": [],
   "source": [
    "crownheightsorigins = rideshareschdo.groupby([pd.Grouper(key='dropoff_datetime', freq='D'), 'PULocationID']).size().reset_index(name='count')"
   ]
  },
  {
   "cell_type": "code",
   "execution_count": 31,
   "id": "ca373b43",
   "metadata": {
    "scrolled": true
   },
   "outputs": [
    {
     "data": {
      "text/html": [
       "<div>\n",
       "<style scoped>\n",
       "    .dataframe tbody tr th:only-of-type {\n",
       "        vertical-align: middle;\n",
       "    }\n",
       "\n",
       "    .dataframe tbody tr th {\n",
       "        vertical-align: top;\n",
       "    }\n",
       "\n",
       "    .dataframe thead th {\n",
       "        text-align: right;\n",
       "    }\n",
       "</style>\n",
       "<table border=\"1\" class=\"dataframe\">\n",
       "  <thead>\n",
       "    <tr style=\"text-align: right;\">\n",
       "      <th></th>\n",
       "      <th>dropoff_datetime</th>\n",
       "      <th>PULocationID</th>\n",
       "      <th>count</th>\n",
       "    </tr>\n",
       "  </thead>\n",
       "  <tbody>\n",
       "    <tr>\n",
       "      <th>0</th>\n",
       "      <td>2023-01-01</td>\n",
       "      <td>4</td>\n",
       "      <td>14</td>\n",
       "    </tr>\n",
       "    <tr>\n",
       "      <th>1</th>\n",
       "      <td>2023-01-01</td>\n",
       "      <td>7</td>\n",
       "      <td>62</td>\n",
       "    </tr>\n",
       "    <tr>\n",
       "      <th>2</th>\n",
       "      <td>2023-01-01</td>\n",
       "      <td>10</td>\n",
       "      <td>11</td>\n",
       "    </tr>\n",
       "    <tr>\n",
       "      <th>3</th>\n",
       "      <td>2023-01-01</td>\n",
       "      <td>11</td>\n",
       "      <td>2</td>\n",
       "    </tr>\n",
       "    <tr>\n",
       "      <th>4</th>\n",
       "      <td>2023-01-01</td>\n",
       "      <td>13</td>\n",
       "      <td>5</td>\n",
       "    </tr>\n",
       "    <tr>\n",
       "      <th>...</th>\n",
       "      <td>...</td>\n",
       "      <td>...</td>\n",
       "      <td>...</td>\n",
       "    </tr>\n",
       "    <tr>\n",
       "      <th>6367</th>\n",
       "      <td>2023-02-01</td>\n",
       "      <td>237</td>\n",
       "      <td>1</td>\n",
       "    </tr>\n",
       "    <tr>\n",
       "      <th>6368</th>\n",
       "      <td>2023-02-01</td>\n",
       "      <td>246</td>\n",
       "      <td>1</td>\n",
       "    </tr>\n",
       "    <tr>\n",
       "      <th>6369</th>\n",
       "      <td>2023-02-01</td>\n",
       "      <td>250</td>\n",
       "      <td>1</td>\n",
       "    </tr>\n",
       "    <tr>\n",
       "      <th>6370</th>\n",
       "      <td>2023-02-01</td>\n",
       "      <td>255</td>\n",
       "      <td>2</td>\n",
       "    </tr>\n",
       "    <tr>\n",
       "      <th>6371</th>\n",
       "      <td>2023-02-01</td>\n",
       "      <td>256</td>\n",
       "      <td>3</td>\n",
       "    </tr>\n",
       "  </tbody>\n",
       "</table>\n",
       "<p>6372 rows × 3 columns</p>\n",
       "</div>"
      ],
      "text/plain": [
       "     dropoff_datetime  PULocationID  count\n",
       "0          2023-01-01             4     14\n",
       "1          2023-01-01             7     62\n",
       "2          2023-01-01            10     11\n",
       "3          2023-01-01            11      2\n",
       "4          2023-01-01            13      5\n",
       "...               ...           ...    ...\n",
       "6367       2023-02-01           237      1\n",
       "6368       2023-02-01           246      1\n",
       "6369       2023-02-01           250      1\n",
       "6370       2023-02-01           255      2\n",
       "6371       2023-02-01           256      3\n",
       "\n",
       "[6372 rows x 3 columns]"
      ]
     },
     "execution_count": 31,
     "metadata": {},
     "output_type": "execute_result"
    }
   ],
   "source": [
    "crownheightsorigins"
   ]
  },
  {
   "cell_type": "code",
   "execution_count": 32,
   "id": "56aee9c1",
   "metadata": {},
   "outputs": [
    {
     "data": {
      "text/plain": [
       "Index(['dropoff_datetime', 'PULocationID', 'count'], dtype='object')"
      ]
     },
     "execution_count": 32,
     "metadata": {},
     "output_type": "execute_result"
    }
   ],
   "source": [
    "crownheightsorigins.columns"
   ]
  },
  {
   "cell_type": "code",
   "execution_count": 33,
   "id": "cf40bd78",
   "metadata": {},
   "outputs": [],
   "source": [
    "crownheightsorigins.to_csv(r'C:\\Users\\EvanSpiller\\Documents\\DS BootCamp\\Capstone\\data\\crownheightsDOJan.csv', index=False)\n"
   ]
  },
  {
   "cell_type": "markdown",
   "id": "354679d0",
   "metadata": {},
   "source": [
    "I played around with this a bit in Tableau. Basically, people are most likely to travel to crown heights from crown heights or surrounding areas. The distance was somewhat broader on weekends and no changes happened over the course of the month. Based on my histogram, I bet this is pretty much true everywhere. Rides are typically short. I might have more interesting data if I remove <2 mile rides."
   ]
  }
 ],
 "metadata": {
  "kernelspec": {
   "display_name": "Python 3 (ipykernel)",
   "language": "python",
   "name": "python3"
  },
  "language_info": {
   "codemirror_mode": {
    "name": "ipython",
    "version": 3
   },
   "file_extension": ".py",
   "mimetype": "text/x-python",
   "name": "python",
   "nbconvert_exporter": "python",
   "pygments_lexer": "ipython3",
   "version": "3.9.13"
  }
 },
 "nbformat": 4,
 "nbformat_minor": 5
}
