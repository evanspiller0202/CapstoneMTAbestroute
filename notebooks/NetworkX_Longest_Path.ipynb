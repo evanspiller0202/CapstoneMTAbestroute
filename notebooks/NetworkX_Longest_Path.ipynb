{
 "cells": [
  {
   "cell_type": "code",
   "execution_count": 100,
   "metadata": {},
   "outputs": [],
   "source": [
    "import networkx as nx\n",
    "import pandas as pd"
   ]
  },
  {
   "cell_type": "markdown",
   "metadata": {},
   "source": [
    "In this notebook, I worked out how to create my 'best bus route' algorithm, which tells you how to get from node A to node B while maximizing the total number of potential commuters or commuter fare. Since this was essentially scrap paper, I don't have markup, but you can see the final outcome here in 'Longest_Path_Comparison_By_Year.ipynb'"
   ]
  },
  {
   "cell_type": "code",
   "execution_count": 101,
   "metadata": {},
   "outputs": [],
   "source": [
    "data = {\n",
    "    'Location': ['A', 'A', 'B', 'B', 'C', 'C', 'D', 'D', 'E', 'E', 'F', 'F', 'G', 'G', 'H', 'H', 'D'],\n",
    "    'Adjacent_Location': ['B', 'C', 'A', 'D', 'B', 'E', 'C', 'F', 'D', 'G', 'E', 'H', 'F', 'H', 'G', 'F', 'E'],\n",
    "    'Distance': [10, 15, 10, 20, 15, 12, 20, 25, 12, 18, 20, 22, 18, 10, 22, 28, 10]\n",
    "}\n",
    "\n",
    "df = pd.DataFrame(data)\n"
   ]
  },
  {
   "cell_type": "code",
   "execution_count": 187,
   "metadata": {},
   "outputs": [
    {
     "data": {
      "text/html": [
       "<div>\n",
       "<style scoped>\n",
       "    .dataframe tbody tr th:only-of-type {\n",
       "        vertical-align: middle;\n",
       "    }\n",
       "\n",
       "    .dataframe tbody tr th {\n",
       "        vertical-align: top;\n",
       "    }\n",
       "\n",
       "    .dataframe thead th {\n",
       "        text-align: right;\n",
       "    }\n",
       "</style>\n",
       "<table border=\"1\" class=\"dataframe\">\n",
       "  <thead>\n",
       "    <tr style=\"text-align: right;\">\n",
       "      <th></th>\n",
       "      <th>Location</th>\n",
       "      <th>Adjacent_Location</th>\n",
       "      <th>Distance</th>\n",
       "    </tr>\n",
       "  </thead>\n",
       "  <tbody>\n",
       "    <tr>\n",
       "      <th>0</th>\n",
       "      <td>A</td>\n",
       "      <td>B</td>\n",
       "      <td>10</td>\n",
       "    </tr>\n",
       "    <tr>\n",
       "      <th>1</th>\n",
       "      <td>A</td>\n",
       "      <td>C</td>\n",
       "      <td>15</td>\n",
       "    </tr>\n",
       "    <tr>\n",
       "      <th>2</th>\n",
       "      <td>B</td>\n",
       "      <td>A</td>\n",
       "      <td>10</td>\n",
       "    </tr>\n",
       "    <tr>\n",
       "      <th>3</th>\n",
       "      <td>B</td>\n",
       "      <td>D</td>\n",
       "      <td>20</td>\n",
       "    </tr>\n",
       "    <tr>\n",
       "      <th>4</th>\n",
       "      <td>C</td>\n",
       "      <td>B</td>\n",
       "      <td>15</td>\n",
       "    </tr>\n",
       "    <tr>\n",
       "      <th>5</th>\n",
       "      <td>C</td>\n",
       "      <td>E</td>\n",
       "      <td>12</td>\n",
       "    </tr>\n",
       "    <tr>\n",
       "      <th>6</th>\n",
       "      <td>D</td>\n",
       "      <td>C</td>\n",
       "      <td>20</td>\n",
       "    </tr>\n",
       "    <tr>\n",
       "      <th>7</th>\n",
       "      <td>D</td>\n",
       "      <td>F</td>\n",
       "      <td>25</td>\n",
       "    </tr>\n",
       "    <tr>\n",
       "      <th>8</th>\n",
       "      <td>E</td>\n",
       "      <td>D</td>\n",
       "      <td>12</td>\n",
       "    </tr>\n",
       "    <tr>\n",
       "      <th>9</th>\n",
       "      <td>E</td>\n",
       "      <td>G</td>\n",
       "      <td>18</td>\n",
       "    </tr>\n",
       "    <tr>\n",
       "      <th>10</th>\n",
       "      <td>F</td>\n",
       "      <td>E</td>\n",
       "      <td>20</td>\n",
       "    </tr>\n",
       "    <tr>\n",
       "      <th>11</th>\n",
       "      <td>F</td>\n",
       "      <td>H</td>\n",
       "      <td>22</td>\n",
       "    </tr>\n",
       "    <tr>\n",
       "      <th>12</th>\n",
       "      <td>G</td>\n",
       "      <td>F</td>\n",
       "      <td>18</td>\n",
       "    </tr>\n",
       "    <tr>\n",
       "      <th>13</th>\n",
       "      <td>G</td>\n",
       "      <td>H</td>\n",
       "      <td>10</td>\n",
       "    </tr>\n",
       "    <tr>\n",
       "      <th>14</th>\n",
       "      <td>H</td>\n",
       "      <td>G</td>\n",
       "      <td>22</td>\n",
       "    </tr>\n",
       "    <tr>\n",
       "      <th>15</th>\n",
       "      <td>H</td>\n",
       "      <td>F</td>\n",
       "      <td>28</td>\n",
       "    </tr>\n",
       "    <tr>\n",
       "      <th>16</th>\n",
       "      <td>D</td>\n",
       "      <td>E</td>\n",
       "      <td>10</td>\n",
       "    </tr>\n",
       "  </tbody>\n",
       "</table>\n",
       "</div>"
      ],
      "text/plain": [
       "   Location Adjacent_Location  Distance\n",
       "0         A                 B        10\n",
       "1         A                 C        15\n",
       "2         B                 A        10\n",
       "3         B                 D        20\n",
       "4         C                 B        15\n",
       "5         C                 E        12\n",
       "6         D                 C        20\n",
       "7         D                 F        25\n",
       "8         E                 D        12\n",
       "9         E                 G        18\n",
       "10        F                 E        20\n",
       "11        F                 H        22\n",
       "12        G                 F        18\n",
       "13        G                 H        10\n",
       "14        H                 G        22\n",
       "15        H                 F        28\n",
       "16        D                 E        10"
      ]
     },
     "execution_count": 187,
     "metadata": {},
     "output_type": "execute_result"
    }
   ],
   "source": [
    "df"
   ]
  },
  {
   "cell_type": "code",
   "execution_count": 102,
   "metadata": {},
   "outputs": [],
   "source": [
    "G = nx.DiGraph()\n"
   ]
  },
  {
   "cell_type": "code",
   "execution_count": 103,
   "metadata": {},
   "outputs": [],
   "source": [
    "for _, row in df.iterrows():\n",
    "    G.add_edge(row['Location'], row['Adjacent_Location'], weight=row['Distance'])\n"
   ]
  },
  {
   "cell_type": "code",
   "execution_count": 104,
   "metadata": {},
   "outputs": [
    {
     "data": {
      "image/png": "[encoded data removed]",
      "text/plain": [
       "<Figure size 640x480 with 1 Axes>"
      ]
     },
     "metadata": {},
     "output_type": "display_data"
    }
   ],
   "source": [
    "import matplotlib.pyplot as plt\n",
    "\n",
    "pos = nx.spring_layout(G)  # positions for all nodes\n",
    "\n",
    "nx.draw(G, pos, with_labels=True, node_size=1000, node_color='lightblue', font_size=10, font_color='black')\n",
    "labels = nx.get_edge_attributes(G, 'weight')\n",
    "nx.draw_networkx_edge_labels(G, pos, edge_labels=labels)\n",
    "\n",
    "plt.show()\n"
   ]
  },
  {
   "cell_type": "code",
   "execution_count": 105,
   "metadata": {},
   "outputs": [],
   "source": [
    "T = nx.dfs_tree(G, source='A', depth_limit=2)"
   ]
  },
  {
   "cell_type": "code",
   "execution_count": 106,
   "metadata": {},
   "outputs": [
    {
     "name": "stdout",
     "output_type": "stream",
     "text": [
      "A -> B\n",
      "A -> B -> D\n",
      "A -> C\n",
      "A -> C -> E\n"
     ]
    }
   ],
   "source": [
    "def print_paths(node, path=[]):\n",
    "    path = path + [node]\n",
    "    if len(path) > 1:\n",
    "        print(' -> '.join(path))\n",
    "    for neighbor in T.neighbors(node):\n",
    "        print_paths(neighbor, path.copy())\n",
    "\n",
    "# Start printing paths from source 'A'\n",
    "print_paths('A')"
   ]
  },
  {
   "cell_type": "code",
   "execution_count": 107,
   "metadata": {},
   "outputs": [
    {
     "name": "stdout",
     "output_type": "stream",
     "text": [
      "['A', 'B']\n",
      "['A', 'B', 'D']\n",
      "['A', 'C']\n",
      "['A', 'C', 'E']\n"
     ]
    }
   ],
   "source": [
    "# Perform DFS from source 'A' with depth limit 2\n",
    "T = nx.dfs_tree(G, source='A', depth_limit=2)\n",
    "\n",
    "# Function to recursively find all paths from a given node\n",
    "def find_paths(node, path=[]):\n",
    "    path = path + [node]\n",
    "    if len(path) > 1:\n",
    "        yield path\n",
    "    for neighbor in T.neighbors(node):\n",
    "        yield from find_paths(neighbor, path.copy())\n",
    "\n",
    "# Get and print all paths from source 'A'\n",
    "all_paths = list(find_paths('A'))\n",
    "for path in all_paths:\n",
    "    print(path)"
   ]
  },
  {
   "cell_type": "code",
   "execution_count": 108,
   "metadata": {},
   "outputs": [
    {
     "name": "stdout",
     "output_type": "stream",
     "text": [
      "Path: ['A', 'B'], Combined Weight: 10\n",
      "Path: ['A', 'B', 'D'], Combined Weight: 30\n",
      "Path: ['A', 'B', 'D', 'C'], Combined Weight: 50\n",
      "Path: ['A', 'B', 'D', 'C', 'E'], Combined Weight: 62\n",
      "Path: ['A', 'B', 'D', 'C', 'E', 'G'], Combined Weight: 80\n",
      "Path: ['A', 'B', 'D', 'C', 'E', 'G', 'F'], Combined Weight: 98\n",
      "Path: ['A', 'B', 'D', 'C', 'E', 'G', 'F', 'H'], Combined Weight: 120\n"
     ]
    }
   ],
   "source": [
    "# Perform DFS from source 'A' with depth limit 2\n",
    "T = nx.dfs_tree(G, source='A')\n",
    "\n",
    "# Function to recursively find all paths from a given node along with their combined weight\n",
    "def find_paths_with_weights(node, path=[], weight=0):\n",
    "    path = path + [node]\n",
    "    if len(path) > 1:\n",
    "        yield path, weight\n",
    "    for neighbor in T.neighbors(node):\n",
    "        edge_weight = G.get_edge_data(node, neighbor).get('weight', 0)\n",
    "        yield from find_paths_with_weights(neighbor, path.copy(), weight + edge_weight)\n",
    "\n",
    "# Get and print all paths from source 'A' with combined weights\n",
    "all_paths_with_weights = list(find_paths_with_weights('A'))\n",
    "for path, weight in all_paths_with_weights:\n",
    "    print(f\"Path: {path}, Combined Weight: {weight}\")"
   ]
  },
  {
   "cell_type": "code",
   "execution_count": 109,
   "metadata": {},
   "outputs": [
    {
     "name": "stdout",
     "output_type": "stream",
     "text": [
      "[('A', 'B'), ('B', 'D'), ('D', 'C'), ('C', 'E'), ('E', 'G')]\n",
      "[('A', 'B'), ('B', 'D'), ('D', 'F'), ('F', 'E'), ('E', 'G')]\n",
      "[('A', 'B'), ('B', 'D'), ('D', 'F'), ('F', 'H'), ('H', 'G')]\n",
      "[('A', 'B'), ('B', 'D'), ('D', 'E'), ('E', 'G')]\n",
      "[('A', 'C'), ('C', 'B'), ('B', 'D'), ('D', 'F'), ('F', 'E'), ('E', 'G')]\n",
      "[('A', 'C'), ('C', 'B'), ('B', 'D'), ('D', 'F'), ('F', 'H'), ('H', 'G')]\n",
      "[('A', 'C'), ('C', 'B'), ('B', 'D'), ('D', 'E'), ('E', 'G')]\n",
      "[('A', 'C'), ('C', 'E'), ('E', 'D'), ('D', 'F'), ('F', 'H'), ('H', 'G')]\n",
      "[('A', 'C'), ('C', 'E'), ('E', 'G')]\n"
     ]
    }
   ],
   "source": [
    "paths = nx.all_simple_paths(G, source='A', target='G')\n",
    "for path in map(nx.utils.pairwise, paths):\n",
    "    print(list(path))\n"
   ]
  },
  {
   "cell_type": "markdown",
   "metadata": {},
   "source": [
    "ALL SIMPLE PATHS!!!!!"
   ]
  },
  {
   "cell_type": "code",
   "execution_count": 110,
   "metadata": {},
   "outputs": [
    {
     "name": "stdout",
     "output_type": "stream",
     "text": [
      "['A', 'B', 'D', 'C', 'E', 'G']\n",
      "['A', 'B', 'D', 'F', 'E', 'G']\n",
      "['A', 'B', 'D', 'F', 'H', 'G']\n",
      "['A', 'B', 'D', 'E', 'G']\n",
      "['A', 'C', 'B', 'D', 'F', 'E', 'G']\n",
      "['A', 'C', 'B', 'D', 'F', 'H', 'G']\n",
      "['A', 'C', 'B', 'D', 'E', 'G']\n",
      "['A', 'C', 'E', 'D', 'F', 'H', 'G']\n",
      "['A', 'C', 'E', 'G']\n"
     ]
    }
   ],
   "source": [
    "for path in nx.all_simple_paths(G, source='A', target='G'):\n",
    "    print(path)"
   ]
  },
  {
   "cell_type": "code",
   "execution_count": 111,
   "metadata": {},
   "outputs": [
    {
     "data": {
      "text/plain": [
       "58"
      ]
     },
     "execution_count": 111,
     "metadata": {},
     "output_type": "execute_result"
    }
   ],
   "source": [
    "path = ['A', 'B', 'D', 'E', 'G']\n",
    "sum(G[path[i]][path[i+1]]['weight'] for i in range(len(path) - 1))\n"
   ]
  },
  {
   "cell_type": "code",
   "execution_count": 112,
   "metadata": {},
   "outputs": [
    {
     "data": {
      "text/plain": [
       "113"
      ]
     },
     "execution_count": 112,
     "metadata": {},
     "output_type": "execute_result"
    }
   ],
   "source": [
    "nx.path_weight(G, ['A', 'C', 'B', 'D', 'F', 'E', 'G'], weight = 'weight')"
   ]
  },
  {
   "cell_type": "code",
   "execution_count": 113,
   "metadata": {},
   "outputs": [
    {
     "data": {
      "text/plain": [
       "113"
      ]
     },
     "execution_count": 113,
     "metadata": {},
     "output_type": "execute_result"
    }
   ],
   "source": [
    "#AC - 15\n",
    "#CB - 15\n",
    "#BD - 20 \n",
    "#DF - 25 \n",
    "#FE - 20\n",
    "#EG - 18\n",
    "\n",
    "15+15+20+25+20+18\n",
    "\n",
    "#seems to work"
   ]
  },
  {
   "cell_type": "code",
   "execution_count": 114,
   "metadata": {},
   "outputs": [],
   "source": [
    "paths = []\n",
    "weights = []\n",
    "\n",
    "for path in nx.all_simple_paths(G, source='A', target='G'):\n",
    "    new_weight = nx.path_weight(G, path, weight = 'weight')\n",
    "    paths.append(path)\n",
    "    weights.append(new_weight)\n",
    "\n"
   ]
  },
  {
   "cell_type": "code",
   "execution_count": 115,
   "metadata": {},
   "outputs": [],
   "source": [
    "paths_DF = pd.DataFrame({'paths':paths, 'Weights':weights})"
   ]
  },
  {
   "cell_type": "code",
   "execution_count": 116,
   "metadata": {},
   "outputs": [
    {
     "name": "stdout",
     "output_type": "stream",
     "text": [
      "['A', 'B']\n",
      "['A', 'D']\n",
      "['A', 'F']\n",
      "['A', 'E']\n",
      "['A', 'G']\n",
      "['B', 'D']\n",
      "['B', 'F']\n",
      "['B', 'E']\n",
      "['B', 'G']\n",
      "['D', 'F']\n",
      "['D', 'E']\n",
      "['D', 'G']\n",
      "['F', 'E']\n",
      "['F', 'G']\n",
      "['E', 'G']\n"
     ]
    }
   ],
   "source": [
    "my_list = ['A', 'B', 'D', 'F', 'E', 'G']\t\n",
    "\n",
    "for i in range(len(my_list)):\n",
    "    for j in range(i + 1, len(my_list)):\n",
    "        print([my_list[i], my_list[j]])\n",
    "#here are the additional path weights"
   ]
  },
  {
   "cell_type": "code",
   "execution_count": 146,
   "metadata": {},
   "outputs": [],
   "source": [
    "result_list = []\n",
    "path_combo_list = []\n",
    "\n",
    "for path in paths_DF['paths']:\n",
    "    path_combinations = []\n",
    "    for i in range(len(path)):\n",
    "        for j in range(i + 1, len(path)):\n",
    "            path_combinations.append(f'[{path[i]},{path[j]}]')\n",
    "    result_list.append(path_combinations)\n",
    "\n",
    "# Print the result_list or perform further processing\n",
    "for path_combinations in result_list:\n",
    "    path_combo_list.append(path_combinations)\n"
   ]
  },
  {
   "cell_type": "code",
   "execution_count": 147,
   "metadata": {},
   "outputs": [
    {
     "data": {
      "text/plain": [
       "[['[A,B]',\n",
       "  '[A,D]',\n",
       "  '[A,C]',\n",
       "  '[A,E]',\n",
       "  '[A,G]',\n",
       "  '[B,D]',\n",
       "  '[B,C]',\n",
       "  '[B,E]',\n",
       "  '[B,G]',\n",
       "  '[D,C]',\n",
       "  '[D,E]',\n",
       "  '[D,G]',\n",
       "  '[C,E]',\n",
       "  '[C,G]',\n",
       "  '[E,G]'],\n",
       " ['[A,B]',\n",
       "  '[A,D]',\n",
       "  '[A,F]',\n",
       "  '[A,E]',\n",
       "  '[A,G]',\n",
       "  '[B,D]',\n",
       "  '[B,F]',\n",
       "  '[B,E]',\n",
       "  '[B,G]',\n",
       "  '[D,F]',\n",
       "  '[D,E]',\n",
       "  '[D,G]',\n",
       "  '[F,E]',\n",
       "  '[F,G]',\n",
       "  '[E,G]'],\n",
       " ['[A,B]',\n",
       "  '[A,D]',\n",
       "  '[A,F]',\n",
       "  '[A,H]',\n",
       "  '[A,G]',\n",
       "  '[B,D]',\n",
       "  '[B,F]',\n",
       "  '[B,H]',\n",
       "  '[B,G]',\n",
       "  '[D,F]',\n",
       "  '[D,H]',\n",
       "  '[D,G]',\n",
       "  '[F,H]',\n",
       "  '[F,G]',\n",
       "  '[H,G]'],\n",
       " ['[A,B]',\n",
       "  '[A,D]',\n",
       "  '[A,E]',\n",
       "  '[A,G]',\n",
       "  '[B,D]',\n",
       "  '[B,E]',\n",
       "  '[B,G]',\n",
       "  '[D,E]',\n",
       "  '[D,G]',\n",
       "  '[E,G]'],\n",
       " ['[A,C]',\n",
       "  '[A,B]',\n",
       "  '[A,D]',\n",
       "  '[A,F]',\n",
       "  '[A,E]',\n",
       "  '[A,G]',\n",
       "  '[C,B]',\n",
       "  '[C,D]',\n",
       "  '[C,F]',\n",
       "  '[C,E]',\n",
       "  '[C,G]',\n",
       "  '[B,D]',\n",
       "  '[B,F]',\n",
       "  '[B,E]',\n",
       "  '[B,G]',\n",
       "  '[D,F]',\n",
       "  '[D,E]',\n",
       "  '[D,G]',\n",
       "  '[F,E]',\n",
       "  '[F,G]',\n",
       "  '[E,G]'],\n",
       " ['[A,C]',\n",
       "  '[A,B]',\n",
       "  '[A,D]',\n",
       "  '[A,F]',\n",
       "  '[A,H]',\n",
       "  '[A,G]',\n",
       "  '[C,B]',\n",
       "  '[C,D]',\n",
       "  '[C,F]',\n",
       "  '[C,H]',\n",
       "  '[C,G]',\n",
       "  '[B,D]',\n",
       "  '[B,F]',\n",
       "  '[B,H]',\n",
       "  '[B,G]',\n",
       "  '[D,F]',\n",
       "  '[D,H]',\n",
       "  '[D,G]',\n",
       "  '[F,H]',\n",
       "  '[F,G]',\n",
       "  '[H,G]'],\n",
       " ['[A,C]',\n",
       "  '[A,B]',\n",
       "  '[A,D]',\n",
       "  '[A,E]',\n",
       "  '[A,G]',\n",
       "  '[C,B]',\n",
       "  '[C,D]',\n",
       "  '[C,E]',\n",
       "  '[C,G]',\n",
       "  '[B,D]',\n",
       "  '[B,E]',\n",
       "  '[B,G]',\n",
       "  '[D,E]',\n",
       "  '[D,G]',\n",
       "  '[E,G]'],\n",
       " ['[A,C]',\n",
       "  '[A,E]',\n",
       "  '[A,D]',\n",
       "  '[A,F]',\n",
       "  '[A,H]',\n",
       "  '[A,G]',\n",
       "  '[C,E]',\n",
       "  '[C,D]',\n",
       "  '[C,F]',\n",
       "  '[C,H]',\n",
       "  '[C,G]',\n",
       "  '[E,D]',\n",
       "  '[E,F]',\n",
       "  '[E,H]',\n",
       "  '[E,G]',\n",
       "  '[D,F]',\n",
       "  '[D,H]',\n",
       "  '[D,G]',\n",
       "  '[F,H]',\n",
       "  '[F,G]',\n",
       "  '[H,G]'],\n",
       " ['[A,C]', '[A,E]', '[A,G]', '[C,E]', '[C,G]', '[E,G]']]"
      ]
     },
     "execution_count": 147,
     "metadata": {},
     "output_type": "execute_result"
    }
   ],
   "source": [
    "path_combo_list"
   ]
  },
  {
   "cell_type": "code",
   "execution_count": 186,
   "metadata": {},
   "outputs": [
    {
     "data": {
      "text/html": [
       "<div>\n",
       "<style scoped>\n",
       "    .dataframe tbody tr th:only-of-type {\n",
       "        vertical-align: middle;\n",
       "    }\n",
       "\n",
       "    .dataframe tbody tr th {\n",
       "        vertical-align: top;\n",
       "    }\n",
       "\n",
       "    .dataframe thead th {\n",
       "        text-align: right;\n",
       "    }\n",
       "</style>\n",
       "<table border=\"1\" class=\"dataframe\">\n",
       "  <thead>\n",
       "    <tr style=\"text-align: right;\">\n",
       "      <th></th>\n",
       "      <th>paths</th>\n",
       "      <th>Weights</th>\n",
       "      <th>path_combo_list</th>\n",
       "    </tr>\n",
       "  </thead>\n",
       "  <tbody>\n",
       "    <tr>\n",
       "      <th>0</th>\n",
       "      <td>[A, B, D, C, E, G]</td>\n",
       "      <td>80</td>\n",
       "      <td>[[A,B], [A,D], [A,C], [A,E], [A,G], [B,D], [B,...</td>\n",
       "    </tr>\n",
       "    <tr>\n",
       "      <th>1</th>\n",
       "      <td>[A, B, D, F, E, G]</td>\n",
       "      <td>93</td>\n",
       "      <td>[[A,B], [A,D], [A,F], [A,E], [A,G], [B,D], [B,...</td>\n",
       "    </tr>\n",
       "    <tr>\n",
       "      <th>2</th>\n",
       "      <td>[A, B, D, F, H, G]</td>\n",
       "      <td>99</td>\n",
       "      <td>[[A,B], [A,D], [A,F], [A,H], [A,G], [B,D], [B,...</td>\n",
       "    </tr>\n",
       "    <tr>\n",
       "      <th>3</th>\n",
       "      <td>[A, B, D, E, G]</td>\n",
       "      <td>58</td>\n",
       "      <td>[[A,B], [A,D], [A,E], [A,G], [B,D], [B,E], [B,...</td>\n",
       "    </tr>\n",
       "    <tr>\n",
       "      <th>4</th>\n",
       "      <td>[A, C, B, D, F, E, G]</td>\n",
       "      <td>113</td>\n",
       "      <td>[[A,C], [A,B], [A,D], [A,F], [A,E], [A,G], [C,...</td>\n",
       "    </tr>\n",
       "    <tr>\n",
       "      <th>5</th>\n",
       "      <td>[A, C, B, D, F, H, G]</td>\n",
       "      <td>119</td>\n",
       "      <td>[[A,C], [A,B], [A,D], [A,F], [A,H], [A,G], [C,...</td>\n",
       "    </tr>\n",
       "    <tr>\n",
       "      <th>6</th>\n",
       "      <td>[A, C, B, D, E, G]</td>\n",
       "      <td>78</td>\n",
       "      <td>[[A,C], [A,B], [A,D], [A,E], [A,G], [C,B], [C,...</td>\n",
       "    </tr>\n",
       "    <tr>\n",
       "      <th>7</th>\n",
       "      <td>[A, C, E, D, F, H, G]</td>\n",
       "      <td>108</td>\n",
       "      <td>[[A,C], [A,E], [A,D], [A,F], [A,H], [A,G], [C,...</td>\n",
       "    </tr>\n",
       "    <tr>\n",
       "      <th>8</th>\n",
       "      <td>[A, C, E, G]</td>\n",
       "      <td>45</td>\n",
       "      <td>[[A,C], [A,E], [A,G], [C,E], [C,G], [E,G]]</td>\n",
       "    </tr>\n",
       "  </tbody>\n",
       "</table>\n",
       "</div>"
      ],
      "text/plain": [
       "                   paths  Weights  \\\n",
       "0     [A, B, D, C, E, G]       80   \n",
       "1     [A, B, D, F, E, G]       93   \n",
       "2     [A, B, D, F, H, G]       99   \n",
       "3        [A, B, D, E, G]       58   \n",
       "4  [A, C, B, D, F, E, G]      113   \n",
       "5  [A, C, B, D, F, H, G]      119   \n",
       "6     [A, C, B, D, E, G]       78   \n",
       "7  [A, C, E, D, F, H, G]      108   \n",
       "8           [A, C, E, G]       45   \n",
       "\n",
       "                                     path_combo_list  \n",
       "0  [[A,B], [A,D], [A,C], [A,E], [A,G], [B,D], [B,...  \n",
       "1  [[A,B], [A,D], [A,F], [A,E], [A,G], [B,D], [B,...  \n",
       "2  [[A,B], [A,D], [A,F], [A,H], [A,G], [B,D], [B,...  \n",
       "3  [[A,B], [A,D], [A,E], [A,G], [B,D], [B,E], [B,...  \n",
       "4  [[A,C], [A,B], [A,D], [A,F], [A,E], [A,G], [C,...  \n",
       "5  [[A,C], [A,B], [A,D], [A,F], [A,H], [A,G], [C,...  \n",
       "6  [[A,C], [A,B], [A,D], [A,E], [A,G], [C,B], [C,...  \n",
       "7  [[A,C], [A,E], [A,D], [A,F], [A,H], [A,G], [C,...  \n",
       "8         [[A,C], [A,E], [A,G], [C,E], [C,G], [E,G]]  "
      ]
     },
     "execution_count": 186,
     "metadata": {},
     "output_type": "execute_result"
    }
   ],
   "source": [
    "pd.DataFrame({'paths':paths, 'Weights':weights, 'path_combo_list': path_combo_list})"
   ]
  },
  {
   "cell_type": "code",
   "execution_count": 177,
   "metadata": {},
   "outputs": [
    {
     "data": {
      "text/plain": [
       "{'[A,B]': 10,\n",
       " '[A,C]': 15,\n",
       " '[B,A]': 10,\n",
       " '[B,D]': 20,\n",
       " '[C,B]': 15,\n",
       " '[C,E]': 12,\n",
       " '[D,C]': 20,\n",
       " '[D,F]': 25,\n",
       " '[E,D]': 12,\n",
       " '[E,G]': 18,\n",
       " '[F,E]': 20,\n",
       " '[F,H]': 22,\n",
       " '[G,F]': 18,\n",
       " '[G,H]': 10,\n",
       " '[H,G]': 22,\n",
       " '[H,F]': 28,\n",
       " '[D,E]': 10}"
      ]
     },
     "execution_count": 177,
     "metadata": {},
     "output_type": "execute_result"
    }
   ],
   "source": [
    "result_dict = {}\n",
    "\n",
    "for loc, adj_loc, dist in zip(data['Location'], data['Adjacent_Location'], data['Distance']):\n",
    "    key = f'[{loc},{adj_loc}]'\n",
    "    result_dict[key] = dist\n",
    "\n",
    "result_dict"
   ]
  },
  {
   "cell_type": "code",
   "execution_count": 149,
   "metadata": {},
   "outputs": [
    {
     "data": {
      "text/plain": [
       "['[A,B]',\n",
       " '[A,D]',\n",
       " '[A,C]',\n",
       " '[A,E]',\n",
       " '[A,G]',\n",
       " '[B,D]',\n",
       " '[B,C]',\n",
       " '[B,E]',\n",
       " '[B,G]',\n",
       " '[D,C]',\n",
       " '[D,E]',\n",
       " '[D,G]',\n",
       " '[C,E]',\n",
       " '[C,G]',\n",
       " '[E,G]']"
      ]
     },
     "execution_count": 149,
     "metadata": {},
     "output_type": "execute_result"
    }
   ],
   "source": [
    "path_combo_list[0]"
   ]
  },
  {
   "cell_type": "code",
   "execution_count": 154,
   "metadata": {},
   "outputs": [],
   "source": []
  },
  {
   "cell_type": "code",
   "execution_count": 165,
   "metadata": {},
   "outputs": [
    {
     "data": {
      "text/plain": [
       "10"
      ]
     },
     "execution_count": 165,
     "metadata": {},
     "output_type": "execute_result"
    }
   ],
   "source": [
    "result_dict[input_list[0]]"
   ]
  },
  {
   "cell_type": "code",
   "execution_count": 185,
   "metadata": {},
   "outputs": [
    {
     "ename": "KeyError",
     "evalue": "('[', 'A', ',', 'B', ']')",
     "output_type": "error",
     "traceback": [
      "\u001b[1;31m---------------------------------------------------------------------------\u001b[0m",
      "\u001b[1;31mKeyError\u001b[0m                                  Traceback (most recent call last)",
      "\u001b[1;32m~\\AppData\\Local\\Temp\\ipykernel_38752\\1135190792.py\u001b[0m in \u001b[0;36m<module>\u001b[1;34m\u001b[0m\n\u001b[0;32m      1\u001b[0m \u001b[1;32mfor\u001b[0m \u001b[0mtwo_list\u001b[0m \u001b[1;32min\u001b[0m \u001b[0minput_list\u001b[0m\u001b[1;33m:\u001b[0m\u001b[1;33m\u001b[0m\u001b[1;33m\u001b[0m\u001b[0m\n\u001b[0;32m      2\u001b[0m     \u001b[0mkey_tuple\u001b[0m \u001b[1;33m=\u001b[0m \u001b[0mtuple\u001b[0m\u001b[1;33m(\u001b[0m\u001b[0mtwo_list\u001b[0m\u001b[1;33m)\u001b[0m\u001b[1;33m\u001b[0m\u001b[1;33m\u001b[0m\u001b[0m\n\u001b[1;32m----> 3\u001b[1;33m     \u001b[0mvalue\u001b[0m \u001b[1;33m=\u001b[0m \u001b[0mresult_dict\u001b[0m\u001b[1;33m[\u001b[0m\u001b[0mkey_tuple\u001b[0m\u001b[1;33m]\u001b[0m\u001b[1;33m\u001b[0m\u001b[1;33m\u001b[0m\u001b[0m\n\u001b[0m\u001b[0;32m      4\u001b[0m     \u001b[1;32mif\u001b[0m \u001b[0mvalue\u001b[0m \u001b[1;32mis\u001b[0m \u001b[1;32mnot\u001b[0m \u001b[1;32mNone\u001b[0m\u001b[1;33m:\u001b[0m\u001b[1;33m\u001b[0m\u001b[1;33m\u001b[0m\u001b[0m\n\u001b[0;32m      5\u001b[0m         \u001b[0mprint\u001b[0m\u001b[1;33m(\u001b[0m\u001b[1;34mf'Key: {key_tuple}, Value: {value}'\u001b[0m\u001b[1;33m)\u001b[0m\u001b[1;33m\u001b[0m\u001b[1;33m\u001b[0m\u001b[0m\n",
      "\u001b[1;31mKeyError\u001b[0m: ('[', 'A', ',', 'B', ']')"
     ]
    }
   ],
   "source": [
    "for two_list in input_list:\n",
    "    key_tuple = tuple(two_list)\n",
    "    value = result_dict[key_tuple]\n",
    "    if value is not None:\n",
    "        print(f'Key: {key_tuple}, Value: {value}')\n",
    "    else:\n",
    "        print(f'Key: {key_tuple} not found in the dictionary.')\n",
    "\n"
   ]
  },
  {
   "cell_type": "code",
   "execution_count": 182,
   "metadata": {},
   "outputs": [
    {
     "name": "stdout",
     "output_type": "stream",
     "text": [
      "{('A', 'B'): 10, ('A', 'C'): 15, ('B', 'A'): 10, ('B', 'D'): 20, ('C', 'B'): 15, ('C', 'E'): 12, ('D', 'C'): 20, ('D', 'F'): 25, ('E', 'D'): 12, ('E', 'G'): 18, ('F', 'E'): 20, ('F', 'H'): 22, ('G', 'F'): 18, ('G', 'H'): 10, ('H', 'G'): 22, ('H', 'F'): 28, ('D', 'E'): 10}\n"
     ]
    }
   ],
   "source": [
    "result_dict = {}\n",
    "\n",
    "for loc, adj_loc, dist in zip(data['Location'], data['Adjacent_Location'], data['Distance']):\n",
    "    key = (loc, adj_loc)  # Using a tuple as the key\n",
    "    result_dict[key] = dist\n",
    "\n",
    "print(result_dict)\n"
   ]
  }
 ],
 "metadata": {
  "kernelspec": {
   "display_name": "capstone",
   "language": "python",
   "name": "python3"
  },
  "language_info": {
   "codemirror_mode": {
    "name": "ipython",
    "version": 3
   },
   "file_extension": ".py",
   "mimetype": "text/x-python",
   "name": "python",
   "nbconvert_exporter": "python",
   "pygments_lexer": "ipython3",
   "version": "3.7.12"
  },
  "orig_nbformat": 4
 },
 "nbformat": 4,
 "nbformat_minor": 2
}
